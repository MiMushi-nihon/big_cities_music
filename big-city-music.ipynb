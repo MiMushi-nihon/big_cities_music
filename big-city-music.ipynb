{
 "cells": [
  {
   "cell_type": "markdown",
   "metadata": {
    "id": "E0vqbgi9ay0H"
   },
   "source": [
    "# Яндекс.Музыка"
   ]
  },
  {
   "cell_type": "markdown",
   "metadata": {
    "id": "VUC88oWjTJw2"
   },
   "source": [
    "Сравнение Москвы и Петербурга окружено мифами. Например:\n",
    " * Москва — мегаполис, подчинённый жёсткому ритму рабочей недели;\n",
    " * Петербург — культурная столица, со своими вкусами.\n",
    "\n",
    "На данных Яндекс.Музыки вы сравните поведение пользователей двух столиц.\n",
    "\n",
    "**Цель исследования** — проверьте три гипотезы:\n",
    "1. Активность пользователей зависит от дня недели. Причём в Москве и Петербурге это проявляется по-разному.\n",
    "2. В понедельник утром в Москве преобладают одни жанры, а в Петербурге — другие. Так же и вечером пятницы преобладают разные жанры — в зависимости от города. \n",
    "3. Москва и Петербург предпочитают разные жанры музыки. В Москве чаще слушают поп-музыку, в Петербурге — русский рэп.\n",
    "\n",
    "**Ход исследования**\n",
    "\n",
    "Данные о поведении пользователей вы получите из файла `yandex_music_project.csv`. О качестве данных ничего не известно. Поэтому перед проверкой гипотез понадобится обзор данных. \n",
    "\n",
    "Вы проверите данные на ошибки и оцените их влияние на исследование. Затем, на этапе предобработки вы поищете возможность исправить самые критичные ошибки данных.\n",
    " \n",
    "Таким образом, исследование пройдёт в три этапа:\n",
    " 1. Обзор данных.\n",
    " 2. Предобработка данных.\n",
    " 3. Проверка гипотез.\n",
    "\n"
   ]
  },
  {
   "cell_type": "markdown",
   "metadata": {
    "id": "Ml1hmfXC_Zcs"
   },
   "source": [
    "## Обзор данных\n",
    "\n",
    "Составьте первое представление о данных Яндекс.Музыки.\n",
    "\n",
    "\n"
   ]
  },
  {
   "cell_type": "markdown",
   "metadata": {
    "id": "57eAOGIz_Zcs"
   },
   "source": [
    "Основной инструмент аналитика — `pandas`. Импортируйте эту библиотеку."
   ]
  },
  {
   "cell_type": "code",
   "execution_count": 1,
   "metadata": {
    "id": "AXN7PHPN_Zcs"
   },
   "outputs": [],
   "source": [
    "# импорт библиотеки pandas\n",
    "import pandas as pd"
   ]
  },
  {
   "cell_type": "markdown",
   "metadata": {
    "id": "SG23P8tt_Zcs"
   },
   "source": [
    "Прочитайте файл `yandex_music_project.csv` из папки `/datasets` и сохраните его в переменной `df`:"
   ]
  },
  {
   "cell_type": "code",
   "execution_count": 2,
   "metadata": {
    "id": "fFVu7vqh_Zct"
   },
   "outputs": [],
   "source": [
    "# чтение файла с данными и сохранение в df\n",
    "df = pd.read_csv('/datasets/yandex_music_project.csv')"
   ]
  },
  {
   "cell_type": "markdown",
   "metadata": {
    "id": "rDoOMd3uTqnZ"
   },
   "source": [
    "Выведите на экран первые десять строк таблицы:"
   ]
  },
  {
   "cell_type": "code",
   "execution_count": 3,
   "metadata": {
    "id": "oWTVX3gW_Zct"
   },
   "outputs": [
    {
     "data": {
      "text/html": [
       "<div>\n",
       "<style scoped>\n",
       "    .dataframe tbody tr th:only-of-type {\n",
       "        vertical-align: middle;\n",
       "    }\n",
       "\n",
       "    .dataframe tbody tr th {\n",
       "        vertical-align: top;\n",
       "    }\n",
       "\n",
       "    .dataframe thead th {\n",
       "        text-align: right;\n",
       "    }\n",
       "</style>\n",
       "<table border=\"1\" class=\"dataframe\">\n",
       "  <thead>\n",
       "    <tr style=\"text-align: right;\">\n",
       "      <th></th>\n",
       "      <th>userID</th>\n",
       "      <th>Track</th>\n",
       "      <th>artist</th>\n",
       "      <th>genre</th>\n",
       "      <th>City</th>\n",
       "      <th>time</th>\n",
       "      <th>Day</th>\n",
       "    </tr>\n",
       "  </thead>\n",
       "  <tbody>\n",
       "    <tr>\n",
       "      <td>0</td>\n",
       "      <td>FFB692EC</td>\n",
       "      <td>Kamigata To Boots</td>\n",
       "      <td>The Mass Missile</td>\n",
       "      <td>rock</td>\n",
       "      <td>Saint-Petersburg</td>\n",
       "      <td>20:28:33</td>\n",
       "      <td>Wednesday</td>\n",
       "    </tr>\n",
       "    <tr>\n",
       "      <td>1</td>\n",
       "      <td>55204538</td>\n",
       "      <td>Delayed Because of Accident</td>\n",
       "      <td>Andreas Rönnberg</td>\n",
       "      <td>rock</td>\n",
       "      <td>Moscow</td>\n",
       "      <td>14:07:09</td>\n",
       "      <td>Friday</td>\n",
       "    </tr>\n",
       "    <tr>\n",
       "      <td>2</td>\n",
       "      <td>20EC38</td>\n",
       "      <td>Funiculì funiculà</td>\n",
       "      <td>Mario Lanza</td>\n",
       "      <td>pop</td>\n",
       "      <td>Saint-Petersburg</td>\n",
       "      <td>20:58:07</td>\n",
       "      <td>Wednesday</td>\n",
       "    </tr>\n",
       "    <tr>\n",
       "      <td>3</td>\n",
       "      <td>A3DD03C9</td>\n",
       "      <td>Dragons in the Sunset</td>\n",
       "      <td>Fire + Ice</td>\n",
       "      <td>folk</td>\n",
       "      <td>Saint-Petersburg</td>\n",
       "      <td>08:37:09</td>\n",
       "      <td>Monday</td>\n",
       "    </tr>\n",
       "    <tr>\n",
       "      <td>4</td>\n",
       "      <td>E2DC1FAE</td>\n",
       "      <td>Soul People</td>\n",
       "      <td>Space Echo</td>\n",
       "      <td>dance</td>\n",
       "      <td>Moscow</td>\n",
       "      <td>08:34:34</td>\n",
       "      <td>Monday</td>\n",
       "    </tr>\n",
       "    <tr>\n",
       "      <td>5</td>\n",
       "      <td>842029A1</td>\n",
       "      <td>Преданная</td>\n",
       "      <td>IMPERVTOR</td>\n",
       "      <td>rusrap</td>\n",
       "      <td>Saint-Petersburg</td>\n",
       "      <td>13:09:41</td>\n",
       "      <td>Friday</td>\n",
       "    </tr>\n",
       "    <tr>\n",
       "      <td>6</td>\n",
       "      <td>4CB90AA5</td>\n",
       "      <td>True</td>\n",
       "      <td>Roman Messer</td>\n",
       "      <td>dance</td>\n",
       "      <td>Moscow</td>\n",
       "      <td>13:00:07</td>\n",
       "      <td>Wednesday</td>\n",
       "    </tr>\n",
       "    <tr>\n",
       "      <td>7</td>\n",
       "      <td>F03E1C1F</td>\n",
       "      <td>Feeling This Way</td>\n",
       "      <td>Polina Griffith</td>\n",
       "      <td>dance</td>\n",
       "      <td>Moscow</td>\n",
       "      <td>20:47:49</td>\n",
       "      <td>Wednesday</td>\n",
       "    </tr>\n",
       "    <tr>\n",
       "      <td>8</td>\n",
       "      <td>8FA1D3BE</td>\n",
       "      <td>И вновь продолжается бой</td>\n",
       "      <td>NaN</td>\n",
       "      <td>ruspop</td>\n",
       "      <td>Moscow</td>\n",
       "      <td>09:17:40</td>\n",
       "      <td>Friday</td>\n",
       "    </tr>\n",
       "    <tr>\n",
       "      <td>9</td>\n",
       "      <td>E772D5C0</td>\n",
       "      <td>Pessimist</td>\n",
       "      <td>NaN</td>\n",
       "      <td>dance</td>\n",
       "      <td>Saint-Petersburg</td>\n",
       "      <td>21:20:49</td>\n",
       "      <td>Wednesday</td>\n",
       "    </tr>\n",
       "  </tbody>\n",
       "</table>\n",
       "</div>"
      ],
      "text/plain": [
       "     userID                        Track            artist   genre  \\\n",
       "0  FFB692EC            Kamigata To Boots  The Mass Missile    rock   \n",
       "1  55204538  Delayed Because of Accident  Andreas Rönnberg    rock   \n",
       "2    20EC38            Funiculì funiculà       Mario Lanza     pop   \n",
       "3  A3DD03C9        Dragons in the Sunset        Fire + Ice    folk   \n",
       "4  E2DC1FAE                  Soul People        Space Echo   dance   \n",
       "5  842029A1                    Преданная         IMPERVTOR  rusrap   \n",
       "6  4CB90AA5                         True      Roman Messer   dance   \n",
       "7  F03E1C1F             Feeling This Way   Polina Griffith   dance   \n",
       "8  8FA1D3BE     И вновь продолжается бой               NaN  ruspop   \n",
       "9  E772D5C0                    Pessimist               NaN   dance   \n",
       "\n",
       "             City        time        Day  \n",
       "0  Saint-Petersburg  20:28:33  Wednesday  \n",
       "1            Moscow  14:07:09     Friday  \n",
       "2  Saint-Petersburg  20:58:07  Wednesday  \n",
       "3  Saint-Petersburg  08:37:09     Monday  \n",
       "4            Moscow  08:34:34     Monday  \n",
       "5  Saint-Petersburg  13:09:41     Friday  \n",
       "6            Moscow  13:00:07  Wednesday  \n",
       "7            Moscow  20:47:49  Wednesday  \n",
       "8            Moscow  09:17:40     Friday  \n",
       "9  Saint-Petersburg  21:20:49  Wednesday  "
      ]
     },
     "metadata": {},
     "output_type": "display_data"
    }
   ],
   "source": [
    "# получение первых 10 строк таблицы df\n",
    "display(df.head(10))"
   ]
  },
  {
   "cell_type": "markdown",
   "metadata": {
    "id": "EO73Kwic_Zct"
   },
   "source": [
    "Одной командой получить общую информацию о таблице:"
   ]
  },
  {
   "cell_type": "code",
   "execution_count": 4,
   "metadata": {
    "id": "DSf2kIb-_Zct",
    "scrolled": true
   },
   "outputs": [
    {
     "name": "stdout",
     "output_type": "stream",
     "text": [
      "<class 'pandas.core.frame.DataFrame'>\n",
      "RangeIndex: 65079 entries, 0 to 65078\n",
      "Data columns (total 7 columns):\n",
      "  userID    65079 non-null object\n",
      "Track       63848 non-null object\n",
      "artist      57876 non-null object\n",
      "genre       63881 non-null object\n",
      "  City      65079 non-null object\n",
      "time        65079 non-null object\n",
      "Day         65079 non-null object\n",
      "dtypes: object(7)\n",
      "memory usage: 3.5+ MB\n"
     ]
    }
   ],
   "source": [
    "# получение общей информации о данных в таблице df\n",
    "df.info()"
   ]
  },
  {
   "cell_type": "markdown",
   "metadata": {
    "id": "TaQ2Iwbr_Zct"
   },
   "source": [
    "Итак, в таблице семь столбцов. Тип данных во всех столбцах — `object`.\n",
    "\n",
    "Согласно документации к данным:\n",
    "* `userID` — идентификатор пользователя;\n",
    "* `Track` — название трека;  \n",
    "* `artist` — имя исполнителя;\n",
    "* `genre` — название жанра;\n",
    "* `City` — город пользователя;\n",
    "* `time` — время начала прослушивания;\n",
    "* `Day` — день недели.\n",
    "\n",
    "В названиях колонок видны три нарушения стиля:\n",
    "1. Строчные буквы сочетаются с прописными.\n",
    "2. Встречаются пробелы.\n",
    "3. Найдите ещё одну проблему в названии колонок и опишите её в этом пункте.(Необходимо привести название колонок к единому стилю, либо все названия колонок с Заглавной буквы, либо с маленькой , и сделать все в едином змеином_регистре)\n",
    "\n",
    "\n",
    "\n",
    "Количество значений в столбцах различается. Значит, в данных есть пропущенные значения.\n"
   ]
  },
  {
   "cell_type": "markdown",
   "metadata": {
    "id": "MCB6-dXG_Zct"
   },
   "source": [
    "**Выводы**\n",
    "\n",
    "В каждой строке таблицы — данные о прослушанном треке. Часть колонок описывает саму композицию: название, исполнителя и жанр. Остальные данные рассказывают о пользователе: из какого он города, когда он слушал музыку. \n",
    "\n",
    "Предварительно можно утверждать, что, данных достаточно для проверки гипотез. Но встречаются пропуски в данных, а в названиях колонок — расхождения с хорошим стилем.\n",
    "\n",
    "Чтобы двигаться дальше, нужно устранить проблемы в данных."
   ]
  },
  {
   "cell_type": "markdown",
   "metadata": {
    "id": "SjYF6Ub9_Zct"
   },
   "source": [
    "## Предобработка данных\n",
    "Исправьте стиль в заголовках столбцов, исключите пропуски. Затем проверьте данные на дубликаты."
   ]
  },
  {
   "cell_type": "markdown",
   "metadata": {
    "id": "dIaKXr29_Zct"
   },
   "source": [
    "### Стиль заголовков\n",
    "Выведите на экран названия столбцов:"
   ]
  },
  {
   "cell_type": "code",
   "execution_count": 5,
   "metadata": {
    "id": "oKOTdF_Q_Zct"
   },
   "outputs": [
    {
     "data": {
      "text/plain": [
       "Index(['  userID', 'Track', 'artist', 'genre', '  City  ', 'time', 'Day'], dtype='object')"
      ]
     },
     "execution_count": 5,
     "metadata": {},
     "output_type": "execute_result"
    }
   ],
   "source": [
    "# перечень названий столбцов таблицы df\n",
    "df.columns"
   ]
  },
  {
   "cell_type": "markdown",
   "metadata": {
    "id": "zj5534cv_Zct"
   },
   "source": [
    "Приведите названия в соответствие с хорошим стилем:\n",
    "* несколько слов в названии запишите в «змеином_регистре»,\n",
    "* все символы сделайте строчными,\n",
    "* устраните пробелы.\n",
    "\n",
    "Для этого переименуйте колонки так:\n",
    "* `'  userID'` → `'user_id'`;\n",
    "* `'Track'` → `'track'`;\n",
    "* `'  City  '` → `'city'`;\n",
    "* `'Day'` → `'day'`."
   ]
  },
  {
   "cell_type": "code",
   "execution_count": 6,
   "metadata": {
    "id": "ISlFqs5y_Zct"
   },
   "outputs": [],
   "source": [
    "# переименование столбцов\n",
    "df = df.rename(columns={'  userID':'user_id','Track':'track','  City  ':'city','Day':'day'})"
   ]
  },
  {
   "cell_type": "markdown",
   "metadata": {
    "id": "1dqbh00J_Zct"
   },
   "source": [
    "Проверьте результат. Для этого ещё раз выведите на экран названия столбцов:"
   ]
  },
  {
   "cell_type": "code",
   "execution_count": 7,
   "metadata": {
    "id": "d4NOAmTW_Zct"
   },
   "outputs": [
    {
     "data": {
      "text/plain": [
       "Index(['user_id', 'track', 'artist', 'genre', 'city', 'time', 'day'], dtype='object')"
      ]
     },
     "execution_count": 7,
     "metadata": {},
     "output_type": "execute_result"
    }
   ],
   "source": [
    "# проверка результатов - перечень названий столбцов\n",
    "df.columns"
   ]
  },
  {
   "cell_type": "markdown",
   "metadata": {
    "id": "5ISfbcfY_Zct"
   },
   "source": [
    "### Пропуски значений\n",
    "Сначала посчитайте, сколько в таблице пропущенных значений. Для этого достаточно двух методов `pandas`:"
   ]
  },
  {
   "cell_type": "code",
   "execution_count": 8,
   "metadata": {
    "id": "RskX29qr_Zct"
   },
   "outputs": [
    {
     "data": {
      "text/plain": [
       "user_id       0\n",
       "track      1231\n",
       "artist     7203\n",
       "genre      1198\n",
       "city          0\n",
       "time          0\n",
       "day           0\n",
       "dtype: int64"
      ]
     },
     "execution_count": 8,
     "metadata": {},
     "output_type": "execute_result"
    }
   ],
   "source": [
    "# подсчёт пропусков\n",
    "df.isna().sum()\n",
    "df.isnull().sum()"
   ]
  },
  {
   "cell_type": "code",
   "execution_count": 9,
   "metadata": {},
   "outputs": [
    {
     "data": {
      "text/plain": [
       "user_id       0\n",
       "track      1231\n",
       "artist     7203\n",
       "genre      1198\n",
       "city          0\n",
       "time          0\n",
       "day           0\n",
       "dtype: int64"
      ]
     },
     "execution_count": 9,
     "metadata": {},
     "output_type": "execute_result"
    }
   ],
   "source": [
    "df.isna().sum()"
   ]
  },
  {
   "cell_type": "code",
   "execution_count": 10,
   "metadata": {},
   "outputs": [
    {
     "data": {
      "text/plain": [
       "user_id       0\n",
       "track      1231\n",
       "artist     7203\n",
       "genre      1198\n",
       "city          0\n",
       "time          0\n",
       "day           0\n",
       "dtype: int64"
      ]
     },
     "execution_count": 10,
     "metadata": {},
     "output_type": "execute_result"
    }
   ],
   "source": [
    "df.isnull().sum()"
   ]
  },
  {
   "cell_type": "code",
   "execution_count": 11,
   "metadata": {},
   "outputs": [
    {
     "data": {
      "text/plain": [
       "user_id       0\n",
       "track      1231\n",
       "artist     7203\n",
       "genre      1198\n",
       "city          0\n",
       "time          0\n",
       "day           0\n",
       "dtype: int64"
      ]
     },
     "metadata": {},
     "output_type": "display_data"
    },
    {
     "data": {
      "text/plain": [
       "user_id       0\n",
       "track      1231\n",
       "artist     7203\n",
       "genre      1198\n",
       "city          0\n",
       "time          0\n",
       "day           0\n",
       "dtype: int64"
      ]
     },
     "execution_count": 11,
     "metadata": {},
     "output_type": "execute_result"
    }
   ],
   "source": [
    "display(df.isna().sum())\n",
    "df.isnull().sum()"
   ]
  },
  {
   "cell_type": "markdown",
   "metadata": {
    "id": "qubhgnlO_Zct"
   },
   "source": [
    "Не все пропущенные значения влияют на исследование. Так в `track` и `artist` пропуски не важны для вашей работы. Достаточно заменить их явными обозначениями.\n",
    "\n",
    "Но пропуски в `genre` могут помешать сравнению музыкальных вкусов в Москве и Санкт-Петербурге. На практике было бы правильно установить причину пропусков и восстановить данные. Такой возможности нет в учебном проекте. Придётся:\n",
    "* заполнить и эти пропуски явными обозначениями,\n",
    "* оценить, насколько они повредят расчётам. "
   ]
  },
  {
   "cell_type": "markdown",
   "metadata": {
    "id": "fSv2laPA_Zct"
   },
   "source": [
    "Замените пропущенные значения в столбцах `track`, `artist` и `genre` на строку `'unknown'`. Для этого создайте список `columns_to_replace`, переберите его элементы циклом `for` и для каждого столбца выполните замену пропущенных значений:"
   ]
  },
  {
   "cell_type": "code",
   "execution_count": 12,
   "metadata": {
    "id": "KplB5qWs_Zct",
    "scrolled": false
   },
   "outputs": [],
   "source": [
    "# создадим список columns_to_replace\n",
    "columns_to_replace = []\n",
    "columns_to_replace = df \n",
    "# перебор названий столбцов в цикле и замена пропущенных значений на 'unknown'\n",
    "for i in columns_to_replace:    \n",
    "    if columns_to_replace[i].isna().sum() !=0:\n",
    "        columns_to_replace[i] = columns_to_replace[i].fillna('unknown')"
   ]
  },
  {
   "cell_type": "markdown",
   "metadata": {
    "id": "Ilsm-MZo_Zct"
   },
   "source": [
    "Убедитесь, что в таблице не осталось пропусков. Для этого ещё раз посчитайте пропущенные значения."
   ]
  },
  {
   "cell_type": "code",
   "execution_count": 13,
   "metadata": {
    "id": "Tq4nYRX4_Zct"
   },
   "outputs": [
    {
     "data": {
      "text/plain": [
       "user_id    0\n",
       "track      0\n",
       "artist     0\n",
       "genre      0\n",
       "city       0\n",
       "time       0\n",
       "day        0\n",
       "dtype: int64"
      ]
     },
     "execution_count": 13,
     "metadata": {},
     "output_type": "execute_result"
    }
   ],
   "source": [
    "# подсчёт пропусков\n",
    "df.isna().sum()"
   ]
  },
  {
   "cell_type": "markdown",
   "metadata": {
    "id": "BWKRtBJ3_Zct"
   },
   "source": [
    "### Дубликаты\n",
    "Посчитайте явные дубликаты в таблице одной командой:"
   ]
  },
  {
   "cell_type": "code",
   "execution_count": 14,
   "metadata": {
    "id": "36eES_S0_Zct"
   },
   "outputs": [
    {
     "data": {
      "text/plain": [
       "3826"
      ]
     },
     "execution_count": 14,
     "metadata": {},
     "output_type": "execute_result"
    }
   ],
   "source": [
    "# подсчёт явных дубликатов\n",
    "df.duplicated().sum()"
   ]
  },
  {
   "cell_type": "markdown",
   "metadata": {
    "id": "Ot25h6XR_Zct"
   },
   "source": [
    "Вызовите специальный метод `pandas`, чтобы удалить явные дубликаты:"
   ]
  },
  {
   "cell_type": "code",
   "execution_count": 15,
   "metadata": {
    "id": "exFHq6tt_Zct"
   },
   "outputs": [],
   "source": [
    "# удаление явных дубликатов (с удалением старых индексов и формированием новых)\n",
    "df = df.drop_duplicates().reset_index(drop=True)"
   ]
  },
  {
   "cell_type": "markdown",
   "metadata": {
    "id": "Im2YwBEG_Zct"
   },
   "source": [
    "Ещё раз посчитайте явные дубликаты в таблице — убедитесь, что полностью от них избавились:"
   ]
  },
  {
   "cell_type": "code",
   "execution_count": 16,
   "metadata": {
    "id": "-8PuNWQ0_Zct"
   },
   "outputs": [
    {
     "data": {
      "text/plain": [
       "0"
      ]
     },
     "execution_count": 16,
     "metadata": {},
     "output_type": "execute_result"
    }
   ],
   "source": [
    "# проверка на отсутствие дубликатов\n",
    "df.duplicated().sum()"
   ]
  },
  {
   "cell_type": "markdown",
   "metadata": {
    "id": "QlFBsxAr_Zct"
   },
   "source": [
    "Теперь избавьтесь от неявных дубликатов в колонке `genre`. Например, название одного и того же жанра может быть записано немного по-разному. Такие ошибки тоже повлияют на результат исследования."
   ]
  },
  {
   "cell_type": "markdown",
   "metadata": {
    "id": "eSjWwsOh_Zct"
   },
   "source": [
    "Выведите на экран список уникальных названий жанров, отсортированный в алфавитном порядке. Для этого:\n",
    "* извлеките нужный столбец датафрейма, \n",
    "* примените к нему метод сортировки,\n",
    "* для отсортированного столбца вызовите метод, который вернёт уникальные значения из столбца."
   ]
  },
  {
   "cell_type": "code",
   "execution_count": 17,
   "metadata": {
    "id": "JIUcqzZN_Zct"
   },
   "outputs": [
    {
     "data": {
      "text/plain": [
       "array(['acid', 'acoustic', 'action', 'adult', 'africa', 'afrikaans',\n",
       "       'alternative', 'alternativepunk', 'ambient', 'americana',\n",
       "       'animated', 'anime', 'arabesk', 'arabic', 'arena',\n",
       "       'argentinetango', 'art', 'audiobook', 'author', 'avantgarde',\n",
       "       'axé', 'baile', 'balkan', 'beats', 'bigroom', 'black', 'bluegrass',\n",
       "       'blues', 'bollywood', 'bossa', 'brazilian', 'breakbeat', 'breaks',\n",
       "       'broadway', 'cantautori', 'cantopop', 'canzone', 'caribbean',\n",
       "       'caucasian', 'celtic', 'chamber', 'chanson', 'children', 'chill',\n",
       "       'chinese', 'choral', 'christian', 'christmas', 'classical',\n",
       "       'classicmetal', 'club', 'colombian', 'comedy', 'conjazz',\n",
       "       'contemporary', 'country', 'cuban', 'dance', 'dancehall',\n",
       "       'dancepop', 'dark', 'death', 'deep', 'deutschrock', 'deutschspr',\n",
       "       'dirty', 'disco', 'dnb', 'documentary', 'downbeat', 'downtempo',\n",
       "       'drum', 'dub', 'dubstep', 'eastern', 'easy', 'electronic',\n",
       "       'electropop', 'emo', 'entehno', 'epicmetal', 'estrada', 'ethnic',\n",
       "       'eurofolk', 'european', 'experimental', 'extrememetal', 'fado',\n",
       "       'fairytail', 'film', 'fitness', 'flamenco', 'folk', 'folklore',\n",
       "       'folkmetal', 'folkrock', 'folktronica', 'forró', 'frankreich',\n",
       "       'französisch', 'french', 'funk', 'future', 'gangsta', 'garage',\n",
       "       'german', 'ghazal', 'gitarre', 'glitch', 'gospel', 'gothic',\n",
       "       'grime', 'grunge', 'gypsy', 'handsup', \"hard'n'heavy\", 'hardcore',\n",
       "       'hardstyle', 'hardtechno', 'hip', 'hip-hop', 'hiphop',\n",
       "       'historisch', 'holiday', 'hop', 'horror', 'house', 'hymn', 'idm',\n",
       "       'independent', 'indian', 'indie', 'indipop', 'industrial',\n",
       "       'inspirational', 'instrumental', 'international', 'irish', 'jam',\n",
       "       'japanese', 'jazz', 'jewish', 'jpop', 'jungle', 'k-pop',\n",
       "       'karadeniz', 'karaoke', 'kayokyoku', 'korean', 'laiko', 'latin',\n",
       "       'latino', 'leftfield', 'local', 'lounge', 'loungeelectronic',\n",
       "       'lovers', 'malaysian', 'mandopop', 'marschmusik', 'meditative',\n",
       "       'mediterranean', 'melodic', 'metal', 'metalcore', 'mexican',\n",
       "       'middle', 'minimal', 'miscellaneous', 'modern', 'mood', 'mpb',\n",
       "       'muslim', 'native', 'neoklassik', 'neue', 'new', 'newage',\n",
       "       'newwave', 'nu', 'nujazz', 'numetal', 'oceania', 'old', 'opera',\n",
       "       'orchestral', 'other', 'piano', 'podcasts', 'pop', 'popdance',\n",
       "       'popelectronic', 'popeurodance', 'poprussian', 'post',\n",
       "       'posthardcore', 'postrock', 'power', 'progmetal', 'progressive',\n",
       "       'psychedelic', 'punjabi', 'punk', 'quebecois', 'ragga', 'ram',\n",
       "       'rancheras', 'rap', 'rave', 'reggae', 'reggaeton', 'regional',\n",
       "       'relax', 'religious', 'retro', 'rhythm', 'rnb', 'rnr', 'rock',\n",
       "       'rockabilly', 'rockalternative', 'rockindie', 'rockother',\n",
       "       'romance', 'roots', 'ruspop', 'rusrap', 'rusrock', 'russian',\n",
       "       'salsa', 'samba', 'scenic', 'schlager', 'self', 'sertanejo',\n",
       "       'shanson', 'shoegazing', 'showtunes', 'singer', 'ska', 'skarock',\n",
       "       'slow', 'smooth', 'soft', 'soul', 'soulful', 'sound', 'soundtrack',\n",
       "       'southern', 'specialty', 'speech', 'spiritual', 'sport',\n",
       "       'stonerrock', 'surf', 'swing', 'synthpop', 'synthrock',\n",
       "       'sängerportrait', 'tango', 'tanzorchester', 'taraftar', 'tatar',\n",
       "       'tech', 'techno', 'teen', 'thrash', 'top', 'traditional',\n",
       "       'tradjazz', 'trance', 'tribal', 'trip', 'triphop', 'tropical',\n",
       "       'türk', 'türkçe', 'ukrrock', 'unknown', 'urban', 'uzbek',\n",
       "       'variété', 'vi', 'videogame', 'vocal', 'western', 'world',\n",
       "       'worldbeat', 'ïîï', 'электроника'], dtype=object)"
      ]
     },
     "execution_count": 17,
     "metadata": {},
     "output_type": "execute_result"
    }
   ],
   "source": [
    "# Просмотр уникальных названий жанров\n",
    "genre_sort = df['genre']\n",
    "genre_sorted = genre_sort.sort_values(ascending=True)\n",
    "genre_sorted.unique()"
   ]
  },
  {
   "cell_type": "markdown",
   "metadata": {
    "id": "qej-Qmuo_Zct"
   },
   "source": [
    "Просмотрите список и найдите неявные дубликаты названия `hiphop`. Это могут быть названия с ошибками или альтернативные названия того же жанра.\n",
    "\n",
    "Вы увидите следующие неявные дубликаты:\n",
    "* *hip*,\n",
    "* *hop*,\n",
    "* *hip-hop*.\n",
    "\n",
    "Чтобы очистить от них таблицу, напишите функцию `replace_wrong_genres()` с двумя параметрами: \n",
    "* `wrong_genres` — список дубликатов,\n",
    "* `correct_genre` — строка с правильным значением.\n",
    "\n",
    "Функция должна исправить колонку `genre` в таблице `df`: заменить каждое значение из списка `wrong_genres` на значение из `correct_genre`."
   ]
  },
  {
   "cell_type": "code",
   "execution_count": 18,
   "metadata": {
    "id": "ErNDkmns_Zct"
   },
   "outputs": [],
   "source": [
    "# Функция для замены неявных дубликатов\n",
    "def replace_wrong_genres(wrong_genres,correct_genre):\n",
    "    for wrong_genre in wrong_genres:\n",
    "        df['genre'] = df['genre'].replace(wrong_genres,correct_genre)"
   ]
  },
  {
   "cell_type": "markdown",
   "metadata": {
    "id": "aDoBJxbA_Zct"
   },
   "source": [
    "Вызовите `replace_wrong_genres()` и передайте ей такие аргументы, чтобы она устранила неявные дубликаты: вместо `hip`, `hop` и `hip-hop` в таблице должно быть значение `hiphop`:"
   ]
  },
  {
   "cell_type": "code",
   "execution_count": 19,
   "metadata": {
    "id": "YN5i2hpmSo09"
   },
   "outputs": [],
   "source": [
    "# Устранение неявных дубликатов\n",
    "wrong_genres = ['hip','hop','hip-hop']\n",
    "correct_genre = 'hiphop'\n",
    "replace_wrong_genres(wrong_genres,correct_genre)"
   ]
  },
  {
   "cell_type": "markdown",
   "metadata": {
    "id": "zQKF16_RG15m"
   },
   "source": [
    "Проверьте, что заменили неправильные названия:\n",
    "\n",
    "*   hip\n",
    "*   hop\n",
    "*   hip-hop\n",
    "\n",
    "Выведите отсортированный список уникальных значений столбца `genre`:"
   ]
  },
  {
   "cell_type": "code",
   "execution_count": 20,
   "metadata": {
    "id": "wvixALnFG15m"
   },
   "outputs": [
    {
     "data": {
      "text/plain": [
       "array(['acid', 'acoustic', 'action', 'adult', 'africa', 'afrikaans',\n",
       "       'alternative', 'alternativepunk', 'ambient', 'americana',\n",
       "       'animated', 'anime', 'arabesk', 'arabic', 'arena',\n",
       "       'argentinetango', 'art', 'audiobook', 'author', 'avantgarde',\n",
       "       'axé', 'baile', 'balkan', 'beats', 'bigroom', 'black', 'bluegrass',\n",
       "       'blues', 'bollywood', 'bossa', 'brazilian', 'breakbeat', 'breaks',\n",
       "       'broadway', 'cantautori', 'cantopop', 'canzone', 'caribbean',\n",
       "       'caucasian', 'celtic', 'chamber', 'chanson', 'children', 'chill',\n",
       "       'chinese', 'choral', 'christian', 'christmas', 'classical',\n",
       "       'classicmetal', 'club', 'colombian', 'comedy', 'conjazz',\n",
       "       'contemporary', 'country', 'cuban', 'dance', 'dancehall',\n",
       "       'dancepop', 'dark', 'death', 'deep', 'deutschrock', 'deutschspr',\n",
       "       'dirty', 'disco', 'dnb', 'documentary', 'downbeat', 'downtempo',\n",
       "       'drum', 'dub', 'dubstep', 'eastern', 'easy', 'electronic',\n",
       "       'electropop', 'emo', 'entehno', 'epicmetal', 'estrada', 'ethnic',\n",
       "       'eurofolk', 'european', 'experimental', 'extrememetal', 'fado',\n",
       "       'fairytail', 'film', 'fitness', 'flamenco', 'folk', 'folklore',\n",
       "       'folkmetal', 'folkrock', 'folktronica', 'forró', 'frankreich',\n",
       "       'französisch', 'french', 'funk', 'future', 'gangsta', 'garage',\n",
       "       'german', 'ghazal', 'gitarre', 'glitch', 'gospel', 'gothic',\n",
       "       'grime', 'grunge', 'gypsy', 'handsup', \"hard'n'heavy\", 'hardcore',\n",
       "       'hardstyle', 'hardtechno', 'hiphop', 'historisch', 'holiday',\n",
       "       'horror', 'house', 'hymn', 'idm', 'independent', 'indian', 'indie',\n",
       "       'indipop', 'industrial', 'inspirational', 'instrumental',\n",
       "       'international', 'irish', 'jam', 'japanese', 'jazz', 'jewish',\n",
       "       'jpop', 'jungle', 'k-pop', 'karadeniz', 'karaoke', 'kayokyoku',\n",
       "       'korean', 'laiko', 'latin', 'latino', 'leftfield', 'local',\n",
       "       'lounge', 'loungeelectronic', 'lovers', 'malaysian', 'mandopop',\n",
       "       'marschmusik', 'meditative', 'mediterranean', 'melodic', 'metal',\n",
       "       'metalcore', 'mexican', 'middle', 'minimal', 'miscellaneous',\n",
       "       'modern', 'mood', 'mpb', 'muslim', 'native', 'neoklassik', 'neue',\n",
       "       'new', 'newage', 'newwave', 'nu', 'nujazz', 'numetal', 'oceania',\n",
       "       'old', 'opera', 'orchestral', 'other', 'piano', 'podcasts', 'pop',\n",
       "       'popdance', 'popelectronic', 'popeurodance', 'poprussian', 'post',\n",
       "       'posthardcore', 'postrock', 'power', 'progmetal', 'progressive',\n",
       "       'psychedelic', 'punjabi', 'punk', 'quebecois', 'ragga', 'ram',\n",
       "       'rancheras', 'rap', 'rave', 'reggae', 'reggaeton', 'regional',\n",
       "       'relax', 'religious', 'retro', 'rhythm', 'rnb', 'rnr', 'rock',\n",
       "       'rockabilly', 'rockalternative', 'rockindie', 'rockother',\n",
       "       'romance', 'roots', 'ruspop', 'rusrap', 'rusrock', 'russian',\n",
       "       'salsa', 'samba', 'scenic', 'schlager', 'self', 'sertanejo',\n",
       "       'shanson', 'shoegazing', 'showtunes', 'singer', 'ska', 'skarock',\n",
       "       'slow', 'smooth', 'soft', 'soul', 'soulful', 'sound', 'soundtrack',\n",
       "       'southern', 'specialty', 'speech', 'spiritual', 'sport',\n",
       "       'stonerrock', 'surf', 'swing', 'synthpop', 'synthrock',\n",
       "       'sängerportrait', 'tango', 'tanzorchester', 'taraftar', 'tatar',\n",
       "       'tech', 'techno', 'teen', 'thrash', 'top', 'traditional',\n",
       "       'tradjazz', 'trance', 'tribal', 'trip', 'triphop', 'tropical',\n",
       "       'türk', 'türkçe', 'ukrrock', 'unknown', 'urban', 'uzbek',\n",
       "       'variété', 'vi', 'videogame', 'vocal', 'western', 'world',\n",
       "       'worldbeat', 'ïîï', 'электроника'], dtype=object)"
      ]
     },
     "execution_count": 20,
     "metadata": {},
     "output_type": "execute_result"
    }
   ],
   "source": [
    "# Проверка на неявные дубликаты\n",
    "df['genre'].sort_values(ascending=True).unique()"
   ]
  },
  {
   "cell_type": "markdown",
   "metadata": {
    "id": "jz6a9-7HQUDd"
   },
   "source": [
    "**Выводы**\n",
    "\n",
    "Предобработка обнаружила три проблемы в данных:\n",
    "\n",
    "- нарушения в стиле заголовков,\n",
    "- пропущенные значения,\n",
    "- дубликаты — явные и неявные.\n",
    "\n",
    "Вы исправили заголовки, чтобы упростить работу с таблицей. Без дубликатов исследование станет более точным.\n",
    "\n",
    "Пропущенные значения вы заменили на `'unknown'`. Ещё предстоит увидеть, не повредят ли исследованию пропуски в колонке `genre`.\n",
    "\n",
    "Теперь можно перейти к проверке гипотез. "
   ]
  },
  {
   "cell_type": "markdown",
   "metadata": {
    "id": "WttZHXH0SqKk"
   },
   "source": [
    "## Проверка гипотез"
   ]
  },
  {
   "cell_type": "markdown",
   "metadata": {
    "id": "Im936VVi_Zcu"
   },
   "source": [
    "### Сравнение поведения пользователей двух столиц"
   ]
  },
  {
   "cell_type": "markdown",
   "metadata": {
    "id": "nwt_MuaL_Zcu"
   },
   "source": [
    "Первая гипотеза утверждает, что пользователи по-разному слушают музыку в Москве и Санкт-Петербурге. Проверьте это предположение по данным о трёх днях недели — понедельнике, среде и пятнице. Для этого:\n",
    "\n",
    "* Разделите пользователей Москвы и Санкт-Петербурга\n",
    "* Сравните, сколько треков послушала каждая группа пользователей в понедельник, среду и пятницу.\n"
   ]
  },
  {
   "cell_type": "markdown",
   "metadata": {
    "id": "8Dw_YMmT_Zcu"
   },
   "source": [
    "Для тренировки сначала выполните каждый из расчётов по отдельности. \n",
    "\n",
    "Оцените активность пользователей в каждом городе. Сгруппируйте данные по городу и посчитайте прослушивания в каждой группе.\n",
    "\n"
   ]
  },
  {
   "cell_type": "code",
   "execution_count": 21,
   "metadata": {
    "id": "0_Qs96oh_Zcu"
   },
   "outputs": [
    {
     "name": "stdout",
     "output_type": "stream",
     "text": [
      "city\n",
      "Moscow              42741\n",
      "Saint-Petersburg    18512\n",
      "Name: time, dtype: int64\n"
     ]
    }
   ],
   "source": [
    "# Подсчёт прослушиваний в каждом городе\n",
    "print(df.groupby('city')['time'].count())"
   ]
  },
  {
   "cell_type": "markdown",
   "metadata": {
    "id": "dzli3w8o_Zcu"
   },
   "source": [
    "В Москве прослушиваний больше, чем в Петербурге. Из этого не следует, что московские пользователи чаще слушают музыку. Просто самих пользователей в Москве больше.\n",
    "\n",
    "Теперь сгруппируйте данные по дню недели и подсчитайте прослушивания в понедельник, среду и пятницу. Учтите, что в данных есть информация только о прослушиваниях только за эти дни.\n"
   ]
  },
  {
   "cell_type": "code",
   "execution_count": 22,
   "metadata": {
    "id": "uZMKjiJz_Zcu"
   },
   "outputs": [
    {
     "name": "stdout",
     "output_type": "stream",
     "text": [
      "day\n",
      "Friday       21840\n",
      "Monday       21354\n",
      "Wednesday    18059\n",
      "Name: time, dtype: int64\n"
     ]
    }
   ],
   "source": [
    "# Подсчёт прослушиваний в каждый из трёх дней Monday,Wednesday,Friday\n",
    "print(df.groupby('day')['time'].count())"
   ]
  },
  {
   "cell_type": "markdown",
   "metadata": {
    "id": "cC2tNrlL_Zcu"
   },
   "source": [
    "В среднем пользователи из двух городов менее активны по средам. Но картина может измениться, если рассмотреть каждый город в отдельности."
   ]
  },
  {
   "cell_type": "markdown",
   "metadata": {
    "id": "POzs8bGa_Zcu"
   },
   "source": [
    "Вы видели, как работает группировка по городу и по дням недели. Теперь напишите функцию, которая объединит два эти расчёта.\n",
    "\n",
    "Создайте функцию `number_tracks()`, которая посчитает прослушивания для заданного дня и города. Ей понадобятся два параметра:\n",
    "* день недели,\n",
    "* название города.\n",
    "\n",
    "В функции сохраните в переменную строки исходной таблицы, у которых значение:\n",
    "  * в колонке `day` равно параметру `day`,\n",
    "  * в колонке `city` равно параметру `city`.\n",
    "\n",
    "Для этого примените последовательную фильтрацию с логической индексацией.\n",
    "\n",
    "Затем посчитайте значения в столбце `user_id` получившейся таблицы. Результат сохраните в новую переменную. Верните эту переменную из функции."
   ]
  },
  {
   "cell_type": "code",
   "execution_count": 23,
   "metadata": {
    "id": "Nz3GdQB1_Zcu"
   },
   "outputs": [],
   "source": [
    "# <создание функции number_tracks()>\n",
    "# Объявляется функция с двумя параметрами: day, city.\n",
    "def number_tracks(day,city):\n",
    "    track_list = df[['day','city','user_id']]\n",
    "    track_list = track_list[track_list['day'] ==day]\n",
    "    track_list = track_list[track_list['city'] ==city]\n",
    "    track_list_count = track_list['user_id'].count()\n",
    "    return track_list_count\n",
    "# В переменной track_list сохраняются те строки таблицы df, для которых \n",
    "# значение в столбце 'day' равно параметру day и одновременно значение\n",
    "# в столбце 'city' равно параметру city (используйте последовательную фильтрацию\n",
    "# с помощью логической индексации).\n",
    "# В переменной track_list_count сохраняется число значений столбца 'user_id',\n",
    "# рассчитанное методом count() для таблицы track_list.\n",
    "# Функция возвращает число - значение track_list_count.\n",
    "\n",
    "# Функция для подсчёта прослушиваний для конкретного города и дня.\n",
    "# С помощью последовательной фильтрации с логической индексацией она \n",
    "# сначала получит из исходной таблицы строки с нужным днём,\n",
    "# затем из результата отфильтрует строки с нужным городом,\n",
    "# методом count() посчитает количество значений в колонке user_id. \n",
    "# Это количество функция вернёт в качестве результата"
   ]
  },
  {
   "cell_type": "markdown",
   "metadata": {
    "id": "ytf7xFrFJQ2r"
   },
   "source": [
    "Вызовите `number_tracks()` шесть раз, меняя значение параметров — так, чтобы получить данные для каждого города в каждый из трёх дней."
   ]
  },
  {
   "cell_type": "code",
   "execution_count": 24,
   "metadata": {
    "id": "rJcRATNQ_Zcu"
   },
   "outputs": [
    {
     "name": "stdout",
     "output_type": "stream",
     "text": [
      "15740\n"
     ]
    }
   ],
   "source": [
    "# количество прослушиваний в Москве по понедельникам\n",
    "print(number_tracks('Monday','Moscow'))"
   ]
  },
  {
   "cell_type": "code",
   "execution_count": 25,
   "metadata": {
    "id": "hq_ncZ5T_Zcu"
   },
   "outputs": [
    {
     "name": "stdout",
     "output_type": "stream",
     "text": [
      "5614\n"
     ]
    }
   ],
   "source": [
    "# количество прослушиваний в Санкт-Петербурге по понедельникам\n",
    "print(number_tracks('Monday','Saint-Petersburg'))"
   ]
  },
  {
   "cell_type": "code",
   "execution_count": 26,
   "metadata": {
    "id": "_NTy2VPU_Zcu"
   },
   "outputs": [
    {
     "name": "stdout",
     "output_type": "stream",
     "text": [
      "11056\n"
     ]
    }
   ],
   "source": [
    "# количество прослушиваний в Москве по средам\n",
    "print(number_tracks('Wednesday','Moscow'))"
   ]
  },
  {
   "cell_type": "code",
   "execution_count": 27,
   "metadata": {
    "id": "j2y3TAwo_Zcu"
   },
   "outputs": [
    {
     "name": "stdout",
     "output_type": "stream",
     "text": [
      "7003\n"
     ]
    }
   ],
   "source": [
    "# количество прослушиваний в Санкт-Петербурге по средам\n",
    "print(number_tracks('Wednesday','Saint-Petersburg'))"
   ]
  },
  {
   "cell_type": "code",
   "execution_count": 28,
   "metadata": {
    "id": "vYDw5u_K_Zcu"
   },
   "outputs": [
    {
     "name": "stdout",
     "output_type": "stream",
     "text": [
      "15945\n"
     ]
    }
   ],
   "source": [
    "# количество прослушиваний в Москве по пятницам\n",
    "print(number_tracks('Friday','Moscow'))"
   ]
  },
  {
   "cell_type": "code",
   "execution_count": 29,
   "metadata": {
    "id": "8_yzFtW3_Zcu"
   },
   "outputs": [
    {
     "name": "stdout",
     "output_type": "stream",
     "text": [
      "5895\n"
     ]
    }
   ],
   "source": [
    "# количество прослушиваний в Санкт-Петербурге по пятницам\n",
    "print(number_tracks('Friday','Saint-Petersburg'))"
   ]
  },
  {
   "cell_type": "markdown",
   "metadata": {
    "id": "7QXffbO-_Zcu"
   },
   "source": [
    "Создайте c помощью конструктора `pd.DataFrame` таблицу, где\n",
    "* названия колонок — `['city', 'monday', 'wednesday', 'friday']`;\n",
    "* данные — результаты, которые вы получили с помощью `number_tracks`."
   ]
  },
  {
   "cell_type": "code",
   "execution_count": 30,
   "metadata": {
    "id": "APAcLpOr_Zcu"
   },
   "outputs": [
    {
     "data": {
      "text/html": [
       "<div>\n",
       "<style scoped>\n",
       "    .dataframe tbody tr th:only-of-type {\n",
       "        vertical-align: middle;\n",
       "    }\n",
       "\n",
       "    .dataframe tbody tr th {\n",
       "        vertical-align: top;\n",
       "    }\n",
       "\n",
       "    .dataframe thead th {\n",
       "        text-align: right;\n",
       "    }\n",
       "</style>\n",
       "<table border=\"1\" class=\"dataframe\">\n",
       "  <thead>\n",
       "    <tr style=\"text-align: right;\">\n",
       "      <th></th>\n",
       "      <th>city</th>\n",
       "      <th>monday</th>\n",
       "      <th>wednesday</th>\n",
       "      <th>friday</th>\n",
       "    </tr>\n",
       "  </thead>\n",
       "  <tbody>\n",
       "    <tr>\n",
       "      <td>0</td>\n",
       "      <td>Moscow</td>\n",
       "      <td>15740</td>\n",
       "      <td>11056</td>\n",
       "      <td>15945</td>\n",
       "    </tr>\n",
       "    <tr>\n",
       "      <td>1</td>\n",
       "      <td>Saint-Petersburg</td>\n",
       "      <td>5614</td>\n",
       "      <td>7003</td>\n",
       "      <td>5895</td>\n",
       "    </tr>\n",
       "  </tbody>\n",
       "</table>\n",
       "</div>"
      ],
      "text/plain": [
       "               city  monday  wednesday  friday\n",
       "0            Moscow   15740      11056   15945\n",
       "1  Saint-Petersburg    5614       7003    5895"
      ]
     },
     "metadata": {},
     "output_type": "display_data"
    }
   ],
   "source": [
    "# Таблица с результатами\n",
    "data = {'city':['Moscow', 'Saint-Petersburg'],\n",
    "         'monday':[15740, 5614],\n",
    "         'wednesday':[11056, 7003],\n",
    "         'friday':[15945, 5895]}\n",
    "result_table = pd.DataFrame(data=data)\n",
    "display(result_table)"
   ]
  },
  {
   "cell_type": "markdown",
   "metadata": {
    "id": "-EgPIHYu_Zcu"
   },
   "source": [
    "**Выводы**\n",
    "\n",
    "Данные показывают разницу поведения пользователей:\n",
    "\n",
    "- В Москве пик прослушиваний приходится на понедельник и пятницу, а в среду заметен спад.\n",
    "- В Петербурге, наоборот, больше слушают музыку по средам. Активность в понедельник и пятницу здесь почти в равной мере уступает среде.\n",
    "\n",
    "Значит, данные говорят в пользу первой гипотезы."
   ]
  },
  {
   "cell_type": "code",
   "execution_count": 31,
   "metadata": {},
   "outputs": [
    {
     "data": {
      "text/html": [
       "<div>\n",
       "<style scoped>\n",
       "    .dataframe tbody tr th:only-of-type {\n",
       "        vertical-align: middle;\n",
       "    }\n",
       "\n",
       "    .dataframe tbody tr th {\n",
       "        vertical-align: top;\n",
       "    }\n",
       "\n",
       "    .dataframe thead th {\n",
       "        text-align: right;\n",
       "    }\n",
       "</style>\n",
       "<table border=\"1\" class=\"dataframe\">\n",
       "  <thead>\n",
       "    <tr style=\"text-align: right;\">\n",
       "      <th></th>\n",
       "      <th>city</th>\n",
       "      <th>monday</th>\n",
       "      <th>wednesday</th>\n",
       "      <th>friday</th>\n",
       "    </tr>\n",
       "  </thead>\n",
       "  <tbody>\n",
       "    <tr>\n",
       "      <td>0</td>\n",
       "      <td>Moscow</td>\n",
       "      <td>15740</td>\n",
       "      <td>11056</td>\n",
       "      <td>15945</td>\n",
       "    </tr>\n",
       "    <tr>\n",
       "      <td>1</td>\n",
       "      <td>Saint-Petersburg</td>\n",
       "      <td>5614</td>\n",
       "      <td>7003</td>\n",
       "      <td>5895</td>\n",
       "    </tr>\n",
       "  </tbody>\n",
       "</table>\n",
       "</div>"
      ],
      "text/plain": [
       "               city  monday  wednesday  friday\n",
       "0            Moscow   15740      11056   15945\n",
       "1  Saint-Petersburg    5614       7003    5895"
      ]
     },
     "metadata": {},
     "output_type": "display_data"
    }
   ],
   "source": [
    "# Таблица с результатами\n",
    "data = {\n",
    "    'city': ['Moscow', 'Saint-Petersburg'],\n",
    "    'monday':    [number_tracks('Monday', 'Moscow'),    number_tracks('Monday', 'Saint-Petersburg')],\n",
    "    'wednesday': [number_tracks('Wednesday', 'Moscow'), number_tracks('Wednesday', 'Saint-Petersburg')],\n",
    "    'friday':    [number_tracks('Friday', 'Moscow'),    number_tracks('Friday', 'Saint-Petersburg')]\n",
    "}\n",
    "\n",
    "result_table = pd.DataFrame(data=data)\n",
    "\n",
    "display(result_table)"
   ]
  },
  {
   "cell_type": "markdown",
   "metadata": {
    "id": "atZAxtq4_Zcu"
   },
   "source": [
    "### Музыка в начале и в конце недели"
   ]
  },
  {
   "cell_type": "markdown",
   "metadata": {
    "id": "eXrQqXFH_Zcu"
   },
   "source": [
    "Согласно второй гипотезе, утром в понедельник в Москве преобладают одни жанры, а в Петербурге — другие. Так же и вечером пятницы преобладают разные жанры — в зависимости от города."
   ]
  },
  {
   "cell_type": "markdown",
   "metadata": {
    "id": "S8UcW6Hw_Zcu"
   },
   "source": [
    "Сохраните таблицы с данными в две переменные:\n",
    "* по Москве — в `moscow_general`;\n",
    "* по Санкт-Петербургу — в `spb_general`."
   ]
  },
  {
   "cell_type": "code",
   "execution_count": 32,
   "metadata": {
    "id": "qeaFfM_P_Zcu"
   },
   "outputs": [
    {
     "data": {
      "text/html": [
       "<div>\n",
       "<style scoped>\n",
       "    .dataframe tbody tr th:only-of-type {\n",
       "        vertical-align: middle;\n",
       "    }\n",
       "\n",
       "    .dataframe tbody tr th {\n",
       "        vertical-align: top;\n",
       "    }\n",
       "\n",
       "    .dataframe thead th {\n",
       "        text-align: right;\n",
       "    }\n",
       "</style>\n",
       "<table border=\"1\" class=\"dataframe\">\n",
       "  <thead>\n",
       "    <tr style=\"text-align: right;\">\n",
       "      <th></th>\n",
       "      <th>user_id</th>\n",
       "      <th>track</th>\n",
       "      <th>artist</th>\n",
       "      <th>genre</th>\n",
       "      <th>city</th>\n",
       "      <th>time</th>\n",
       "      <th>day</th>\n",
       "    </tr>\n",
       "  </thead>\n",
       "  <tbody>\n",
       "    <tr>\n",
       "      <td>1</td>\n",
       "      <td>55204538</td>\n",
       "      <td>Delayed Because of Accident</td>\n",
       "      <td>Andreas Rönnberg</td>\n",
       "      <td>rock</td>\n",
       "      <td>Moscow</td>\n",
       "      <td>14:07:09</td>\n",
       "      <td>Friday</td>\n",
       "    </tr>\n",
       "    <tr>\n",
       "      <td>4</td>\n",
       "      <td>E2DC1FAE</td>\n",
       "      <td>Soul People</td>\n",
       "      <td>Space Echo</td>\n",
       "      <td>dance</td>\n",
       "      <td>Moscow</td>\n",
       "      <td>08:34:34</td>\n",
       "      <td>Monday</td>\n",
       "    </tr>\n",
       "    <tr>\n",
       "      <td>6</td>\n",
       "      <td>4CB90AA5</td>\n",
       "      <td>True</td>\n",
       "      <td>Roman Messer</td>\n",
       "      <td>dance</td>\n",
       "      <td>Moscow</td>\n",
       "      <td>13:00:07</td>\n",
       "      <td>Wednesday</td>\n",
       "    </tr>\n",
       "    <tr>\n",
       "      <td>7</td>\n",
       "      <td>F03E1C1F</td>\n",
       "      <td>Feeling This Way</td>\n",
       "      <td>Polina Griffith</td>\n",
       "      <td>dance</td>\n",
       "      <td>Moscow</td>\n",
       "      <td>20:47:49</td>\n",
       "      <td>Wednesday</td>\n",
       "    </tr>\n",
       "    <tr>\n",
       "      <td>8</td>\n",
       "      <td>8FA1D3BE</td>\n",
       "      <td>И вновь продолжается бой</td>\n",
       "      <td>unknown</td>\n",
       "      <td>ruspop</td>\n",
       "      <td>Moscow</td>\n",
       "      <td>09:17:40</td>\n",
       "      <td>Friday</td>\n",
       "    </tr>\n",
       "    <tr>\n",
       "      <td>...</td>\n",
       "      <td>...</td>\n",
       "      <td>...</td>\n",
       "      <td>...</td>\n",
       "      <td>...</td>\n",
       "      <td>...</td>\n",
       "      <td>...</td>\n",
       "      <td>...</td>\n",
       "    </tr>\n",
       "    <tr>\n",
       "      <td>61247</td>\n",
       "      <td>83A474E7</td>\n",
       "      <td>I Worship Only What You Bleed</td>\n",
       "      <td>The Black Dahlia Murder</td>\n",
       "      <td>extrememetal</td>\n",
       "      <td>Moscow</td>\n",
       "      <td>21:07:12</td>\n",
       "      <td>Monday</td>\n",
       "    </tr>\n",
       "    <tr>\n",
       "      <td>61248</td>\n",
       "      <td>729CBB09</td>\n",
       "      <td>My Name</td>\n",
       "      <td>McLean</td>\n",
       "      <td>rnb</td>\n",
       "      <td>Moscow</td>\n",
       "      <td>13:32:28</td>\n",
       "      <td>Wednesday</td>\n",
       "    </tr>\n",
       "    <tr>\n",
       "      <td>61250</td>\n",
       "      <td>C5E3A0D5</td>\n",
       "      <td>Jalopiina</td>\n",
       "      <td>unknown</td>\n",
       "      <td>industrial</td>\n",
       "      <td>Moscow</td>\n",
       "      <td>20:09:26</td>\n",
       "      <td>Friday</td>\n",
       "    </tr>\n",
       "    <tr>\n",
       "      <td>61251</td>\n",
       "      <td>321D0506</td>\n",
       "      <td>Freight Train</td>\n",
       "      <td>Chas McDevitt</td>\n",
       "      <td>rock</td>\n",
       "      <td>Moscow</td>\n",
       "      <td>21:43:59</td>\n",
       "      <td>Friday</td>\n",
       "    </tr>\n",
       "    <tr>\n",
       "      <td>61252</td>\n",
       "      <td>3A64EF84</td>\n",
       "      <td>Tell Me Sweet Little Lies</td>\n",
       "      <td>Monica Lopez</td>\n",
       "      <td>country</td>\n",
       "      <td>Moscow</td>\n",
       "      <td>21:59:46</td>\n",
       "      <td>Friday</td>\n",
       "    </tr>\n",
       "  </tbody>\n",
       "</table>\n",
       "<p>42741 rows × 7 columns</p>\n",
       "</div>"
      ],
      "text/plain": [
       "        user_id                          track                   artist  \\\n",
       "1      55204538    Delayed Because of Accident         Andreas Rönnberg   \n",
       "4      E2DC1FAE                    Soul People               Space Echo   \n",
       "6      4CB90AA5                           True             Roman Messer   \n",
       "7      F03E1C1F               Feeling This Way          Polina Griffith   \n",
       "8      8FA1D3BE       И вновь продолжается бой                  unknown   \n",
       "...         ...                            ...                      ...   \n",
       "61247  83A474E7  I Worship Only What You Bleed  The Black Dahlia Murder   \n",
       "61248  729CBB09                        My Name                   McLean   \n",
       "61250  C5E3A0D5                      Jalopiina                  unknown   \n",
       "61251  321D0506                  Freight Train            Chas McDevitt   \n",
       "61252  3A64EF84      Tell Me Sweet Little Lies             Monica Lopez   \n",
       "\n",
       "              genre    city      time        day  \n",
       "1              rock  Moscow  14:07:09     Friday  \n",
       "4             dance  Moscow  08:34:34     Monday  \n",
       "6             dance  Moscow  13:00:07  Wednesday  \n",
       "7             dance  Moscow  20:47:49  Wednesday  \n",
       "8            ruspop  Moscow  09:17:40     Friday  \n",
       "...             ...     ...       ...        ...  \n",
       "61247  extrememetal  Moscow  21:07:12     Monday  \n",
       "61248           rnb  Moscow  13:32:28  Wednesday  \n",
       "61250    industrial  Moscow  20:09:26     Friday  \n",
       "61251          rock  Moscow  21:43:59     Friday  \n",
       "61252       country  Moscow  21:59:46     Friday  \n",
       "\n",
       "[42741 rows x 7 columns]"
      ]
     },
     "metadata": {},
     "output_type": "display_data"
    }
   ],
   "source": [
    "# получение таблицы moscow_general из тех строк таблицы df, \n",
    "# для которых значение в столбце 'city' равно 'Moscow'\n",
    "moscow_general = df[df['city'] =='Moscow']\n",
    "display(moscow_general)"
   ]
  },
  {
   "cell_type": "code",
   "execution_count": 33,
   "metadata": {
    "id": "ORaVRKto_Zcu"
   },
   "outputs": [
    {
     "data": {
      "text/html": [
       "<div>\n",
       "<style scoped>\n",
       "    .dataframe tbody tr th:only-of-type {\n",
       "        vertical-align: middle;\n",
       "    }\n",
       "\n",
       "    .dataframe tbody tr th {\n",
       "        vertical-align: top;\n",
       "    }\n",
       "\n",
       "    .dataframe thead th {\n",
       "        text-align: right;\n",
       "    }\n",
       "</style>\n",
       "<table border=\"1\" class=\"dataframe\">\n",
       "  <thead>\n",
       "    <tr style=\"text-align: right;\">\n",
       "      <th></th>\n",
       "      <th>user_id</th>\n",
       "      <th>track</th>\n",
       "      <th>artist</th>\n",
       "      <th>genre</th>\n",
       "      <th>city</th>\n",
       "      <th>time</th>\n",
       "      <th>day</th>\n",
       "    </tr>\n",
       "  </thead>\n",
       "  <tbody>\n",
       "    <tr>\n",
       "      <td>0</td>\n",
       "      <td>FFB692EC</td>\n",
       "      <td>Kamigata To Boots</td>\n",
       "      <td>The Mass Missile</td>\n",
       "      <td>rock</td>\n",
       "      <td>Saint-Petersburg</td>\n",
       "      <td>20:28:33</td>\n",
       "      <td>Wednesday</td>\n",
       "    </tr>\n",
       "    <tr>\n",
       "      <td>2</td>\n",
       "      <td>20EC38</td>\n",
       "      <td>Funiculì funiculà</td>\n",
       "      <td>Mario Lanza</td>\n",
       "      <td>pop</td>\n",
       "      <td>Saint-Petersburg</td>\n",
       "      <td>20:58:07</td>\n",
       "      <td>Wednesday</td>\n",
       "    </tr>\n",
       "    <tr>\n",
       "      <td>3</td>\n",
       "      <td>A3DD03C9</td>\n",
       "      <td>Dragons in the Sunset</td>\n",
       "      <td>Fire + Ice</td>\n",
       "      <td>folk</td>\n",
       "      <td>Saint-Petersburg</td>\n",
       "      <td>08:37:09</td>\n",
       "      <td>Monday</td>\n",
       "    </tr>\n",
       "    <tr>\n",
       "      <td>5</td>\n",
       "      <td>842029A1</td>\n",
       "      <td>Преданная</td>\n",
       "      <td>IMPERVTOR</td>\n",
       "      <td>rusrap</td>\n",
       "      <td>Saint-Petersburg</td>\n",
       "      <td>13:09:41</td>\n",
       "      <td>Friday</td>\n",
       "    </tr>\n",
       "    <tr>\n",
       "      <td>9</td>\n",
       "      <td>E772D5C0</td>\n",
       "      <td>Pessimist</td>\n",
       "      <td>unknown</td>\n",
       "      <td>dance</td>\n",
       "      <td>Saint-Petersburg</td>\n",
       "      <td>21:20:49</td>\n",
       "      <td>Wednesday</td>\n",
       "    </tr>\n",
       "    <tr>\n",
       "      <td>...</td>\n",
       "      <td>...</td>\n",
       "      <td>...</td>\n",
       "      <td>...</td>\n",
       "      <td>...</td>\n",
       "      <td>...</td>\n",
       "      <td>...</td>\n",
       "      <td>...</td>\n",
       "    </tr>\n",
       "    <tr>\n",
       "      <td>61239</td>\n",
       "      <td>D94F810B</td>\n",
       "      <td>Theme from the Walking Dead</td>\n",
       "      <td>Proyecto Halloween</td>\n",
       "      <td>film</td>\n",
       "      <td>Saint-Petersburg</td>\n",
       "      <td>21:14:40</td>\n",
       "      <td>Monday</td>\n",
       "    </tr>\n",
       "    <tr>\n",
       "      <td>61240</td>\n",
       "      <td>BC8EC5CF</td>\n",
       "      <td>Red Lips: Gta (Rover Rework)</td>\n",
       "      <td>Rover</td>\n",
       "      <td>electronic</td>\n",
       "      <td>Saint-Petersburg</td>\n",
       "      <td>21:06:50</td>\n",
       "      <td>Monday</td>\n",
       "    </tr>\n",
       "    <tr>\n",
       "      <td>61241</td>\n",
       "      <td>29E04611</td>\n",
       "      <td>Bre Petrunko</td>\n",
       "      <td>Perunika Trio</td>\n",
       "      <td>world</td>\n",
       "      <td>Saint-Petersburg</td>\n",
       "      <td>13:56:00</td>\n",
       "      <td>Monday</td>\n",
       "    </tr>\n",
       "    <tr>\n",
       "      <td>61242</td>\n",
       "      <td>1B91C621</td>\n",
       "      <td>(Hello) Cloud Mountain</td>\n",
       "      <td>sleepmakeswaves</td>\n",
       "      <td>postrock</td>\n",
       "      <td>Saint-Petersburg</td>\n",
       "      <td>09:22:13</td>\n",
       "      <td>Monday</td>\n",
       "    </tr>\n",
       "    <tr>\n",
       "      <td>61249</td>\n",
       "      <td>D08D4A55</td>\n",
       "      <td>Maybe One Day (feat. Black Spade)</td>\n",
       "      <td>Blu &amp; Exile</td>\n",
       "      <td>hiphop</td>\n",
       "      <td>Saint-Petersburg</td>\n",
       "      <td>10:00:00</td>\n",
       "      <td>Monday</td>\n",
       "    </tr>\n",
       "  </tbody>\n",
       "</table>\n",
       "<p>18512 rows × 7 columns</p>\n",
       "</div>"
      ],
      "text/plain": [
       "        user_id                              track              artist  \\\n",
       "0      FFB692EC                  Kamigata To Boots    The Mass Missile   \n",
       "2        20EC38                  Funiculì funiculà         Mario Lanza   \n",
       "3      A3DD03C9              Dragons in the Sunset          Fire + Ice   \n",
       "5      842029A1                          Преданная           IMPERVTOR   \n",
       "9      E772D5C0                          Pessimist             unknown   \n",
       "...         ...                                ...                 ...   \n",
       "61239  D94F810B        Theme from the Walking Dead  Proyecto Halloween   \n",
       "61240  BC8EC5CF       Red Lips: Gta (Rover Rework)               Rover   \n",
       "61241  29E04611                       Bre Petrunko       Perunika Trio   \n",
       "61242  1B91C621             (Hello) Cloud Mountain     sleepmakeswaves   \n",
       "61249  D08D4A55  Maybe One Day (feat. Black Spade)         Blu & Exile   \n",
       "\n",
       "            genre              city      time        day  \n",
       "0            rock  Saint-Petersburg  20:28:33  Wednesday  \n",
       "2             pop  Saint-Petersburg  20:58:07  Wednesday  \n",
       "3            folk  Saint-Petersburg  08:37:09     Monday  \n",
       "5          rusrap  Saint-Petersburg  13:09:41     Friday  \n",
       "9           dance  Saint-Petersburg  21:20:49  Wednesday  \n",
       "...           ...               ...       ...        ...  \n",
       "61239        film  Saint-Petersburg  21:14:40     Monday  \n",
       "61240  electronic  Saint-Petersburg  21:06:50     Monday  \n",
       "61241       world  Saint-Petersburg  13:56:00     Monday  \n",
       "61242    postrock  Saint-Petersburg  09:22:13     Monday  \n",
       "61249      hiphop  Saint-Petersburg  10:00:00     Monday  \n",
       "\n",
       "[18512 rows x 7 columns]"
      ]
     },
     "metadata": {},
     "output_type": "display_data"
    }
   ],
   "source": [
    "# получение таблицы spb_general из тех строк таблицы df,\n",
    "# для которых значение в столбце 'city' равно 'Saint-Petersburg'\n",
    "spb_general = df[df['city'] =='Saint-Petersburg']\n",
    "display(spb_general)"
   ]
  },
  {
   "cell_type": "markdown",
   "metadata": {
    "id": "MEJV-CX2_Zcu"
   },
   "source": [
    "Создайте функцию `genre_weekday()` с четырьмя параметрами:\n",
    "* таблица (датафрейм) с данными,\n",
    "* день недели,\n",
    "* начальная временная метка в формате 'hh:mm', \n",
    "* последняя временная метка в формате 'hh:mm'.\n",
    "\n",
    "Функция должна вернуть информацию о топ-10 жанров тех треков, которые прослушивали в указанный день, в промежутке между двумя отметками времени."
   ]
  },
  {
   "cell_type": "code",
   "execution_count": 34,
   "metadata": {
    "id": "laJT9BYl_Zcu"
   },
   "outputs": [],
   "source": [
    "# Объявление функции genre_weekday() с параметрами table, day, time1, time2,\n",
    "# которая возвращает информацию о самых популярных жанрах в указанный день в\n",
    "# заданное время:\n",
    "# 1) в переменную genre_df сохраняются те строки переданного датафрейма table, для\n",
    "#    которых одновременно:\n",
    "#    - значение в столбце day равно значению аргумента day\n",
    "#    - значение в столбце time больше значения аргумента time1\n",
    "#    - значение в столбце time меньше значения аргумента time2\n",
    "#    Используйте последовательную фильтрацию с помощью логической индексации.\n",
    "# 2) сгруппировать датафрейм genre_df по столбцу genre, взять один из его\n",
    "#    столбцов и посчитать методом count() количество записей для каждого из\n",
    "#    присутствующих жанров, получившийся Series записать в переменную\n",
    "#    genre_df_count\n",
    "# 3) отсортировать genre_df_count по убыванию встречаемости и сохранить\n",
    "#    в переменную genre_df_sorted\n",
    "# 4) вернуть Series из 10 первых значений genre_df_sorted, это будут топ-10\n",
    "#    популярных жанров (в указанный день, в заданное время)\n",
    "def genre_weekday(table,day,time1,time2):\n",
    "    genre_df = table[table['day'] ==day]\n",
    "    genre_df = genre_df[genre_df['time'] >time1]\n",
    "    genre_df = genre_df[genre_df['time'] <time2]\n",
    "    genre_df_count = genre_df.groupby('genre')['track'].count()\n",
    "    genre_df_sorted = genre_df_count.sort_values(ascending=False)\n",
    "    return genre_df_sorted.head(10)"
   ]
  },
  {
   "cell_type": "markdown",
   "metadata": {
    "id": "la2s2_PF_Zcu"
   },
   "source": [
    "Cравните результаты функции `genre_weekday()` для Москвы и Санкт-Петербурга в понедельник утром (с 7:00 до 11:00) и в пятницу вечером (с 17:00 до 23:00):"
   ]
  },
  {
   "cell_type": "code",
   "execution_count": 35,
   "metadata": {
    "id": "yz7itPUQ_Zcu"
   },
   "outputs": [
    {
     "data": {
      "text/plain": [
       "genre\n",
       "pop            781\n",
       "dance          549\n",
       "electronic     480\n",
       "rock           474\n",
       "hiphop         286\n",
       "ruspop         186\n",
       "world          181\n",
       "rusrap         175\n",
       "alternative    164\n",
       "unknown        161\n",
       "Name: track, dtype: int64"
      ]
     },
     "execution_count": 35,
     "metadata": {},
     "output_type": "execute_result"
    }
   ],
   "source": [
    "# вызов функции для утра понедельника в Москве (вместо df — таблица moscow_general)\n",
    "# объекты, хранящие время, являются строками и сравниваются как строки\n",
    "# пример вызова: genre_weekday(moscow_general, 'Monday', '07:00', '11:00')\n",
    "genre_weekday(moscow_general, 'Monday', '07:00', '11:00')"
   ]
  },
  {
   "cell_type": "code",
   "execution_count": 36,
   "metadata": {
    "id": "kwUcHPdy_Zcu"
   },
   "outputs": [
    {
     "data": {
      "text/plain": [
       "genre\n",
       "pop            218\n",
       "dance          182\n",
       "rock           162\n",
       "electronic     147\n",
       "hiphop          80\n",
       "ruspop          64\n",
       "alternative     58\n",
       "rusrap          55\n",
       "jazz            44\n",
       "classical       40\n",
       "Name: track, dtype: int64"
      ]
     },
     "execution_count": 36,
     "metadata": {},
     "output_type": "execute_result"
    }
   ],
   "source": [
    "# вызов функции для утра понедельника в Петербурге (вместо df — таблица spb_general)\n",
    "genre_weekday(spb_general, 'Monday', '07:00', '11:00')"
   ]
  },
  {
   "cell_type": "code",
   "execution_count": 37,
   "metadata": {
    "id": "EzXVRE1o_Zcu"
   },
   "outputs": [
    {
     "data": {
      "text/plain": [
       "genre\n",
       "pop            713\n",
       "rock           517\n",
       "dance          495\n",
       "electronic     482\n",
       "hiphop         273\n",
       "world          208\n",
       "ruspop         170\n",
       "alternative    163\n",
       "classical      163\n",
       "rusrap         142\n",
       "Name: track, dtype: int64"
      ]
     },
     "execution_count": 37,
     "metadata": {},
     "output_type": "execute_result"
    }
   ],
   "source": [
    "# вызов функции для вечера пятницы в Москве\n",
    "genre_weekday(moscow_general, 'Friday', '17:00', '23:00')"
   ]
  },
  {
   "cell_type": "code",
   "execution_count": 38,
   "metadata": {
    "id": "JZaEKu5v_Zcu"
   },
   "outputs": [
    {
     "data": {
      "text/plain": [
       "genre\n",
       "pop            256\n",
       "rock           216\n",
       "electronic     216\n",
       "dance          210\n",
       "hiphop          97\n",
       "alternative     63\n",
       "jazz            61\n",
       "classical       60\n",
       "rusrap          59\n",
       "world           54\n",
       "Name: track, dtype: int64"
      ]
     },
     "execution_count": 38,
     "metadata": {},
     "output_type": "execute_result"
    }
   ],
   "source": [
    "# вызов функции для вечера пятницы в Петербурге\n",
    "genre_weekday(spb_general, 'Friday', '17:00', '23:00')"
   ]
  },
  {
   "cell_type": "markdown",
   "metadata": {
    "id": "wrCe4MNX_Zcu"
   },
   "source": [
    "**Выводы**\n",
    "\n",
    "Если сравнить топ-10 жанров в понедельник утром, можно сделать такие выводы:\n",
    "\n",
    "1. В Москве и Петербурге слушают похожую музыку. Единственное отличие — в московский рейтинг вошёл жанр “world”, а в петербургский — джаз и классика.\n",
    "\n",
    "2. В Москве пропущенных значений оказалось так много, что значение `'unknown'` заняло десятое место среди самых популярных жанров. Значит, пропущенные значения занимают существенную долю в данных и угрожают достоверности исследования.\n",
    "\n",
    "Вечер пятницы не меняет эту картину. Некоторые жанры поднимаются немного выше, другие спускаются, но в целом топ-10 остаётся тем же самым.\n",
    "\n",
    "Таким образом, вторая гипотеза подтвердилась лишь частично:\n",
    "* Пользователи слушают похожую музыку в начале недели и в конце.\n",
    "* Разница между Москвой и Петербургом не слишком выражена. В Москве чаще слушают русскую популярную музыку, в Петербурге — джаз.\n",
    "\n",
    "Однако пропуски в данных ставят под сомнение этот результат. В Москве их так много, что рейтинг топ-10 мог бы выглядеть иначе, если бы не утерянные  данные о жанрах."
   ]
  },
  {
   "cell_type": "markdown",
   "metadata": {
    "id": "JolODAqr_Zcu"
   },
   "source": [
    "### Жанровые предпочтения в Москве и Петербурге\n",
    "\n",
    "Гипотеза: Петербург — столица рэпа, музыку этого жанра там слушают чаще, чем в Москве.  А Москва — город контрастов, в котором, тем не менее, преобладает поп-музыка."
   ]
  },
  {
   "cell_type": "markdown",
   "metadata": {
    "id": "DlegSvaT_Zcu"
   },
   "source": [
    "Сгруппируйте таблицу `moscow_general` по жанру и посчитайте прослушивания треков каждого жанра методом `count()`. Затем отсортируйте результат в порядке убывания и сохраните его в таблице `moscow_genres`."
   ]
  },
  {
   "cell_type": "code",
   "execution_count": 39,
   "metadata": {
    "id": "r19lIPke_Zcu"
   },
   "outputs": [],
   "source": [
    "# одной строкой: группировка таблицы moscow_general по столбцу 'genre', \n",
    "# подсчёт числа значений 'genre' в этой группировке методом count(), \n",
    "# сортировка получившегося Series в порядке убывания и сохранение в moscow_genres\n",
    "moscow_genres = moscow_general.groupby('genre')['track'].count()\n",
    "moscow_genres = moscow_genres.sort_values(ascending=False)"
   ]
  },
  {
   "cell_type": "markdown",
   "metadata": {
    "id": "6kMuomxTiIr8"
   },
   "source": [
    "Выведите на экран первые десять строк `moscow_genres`:"
   ]
  },
  {
   "cell_type": "code",
   "execution_count": 40,
   "metadata": {
    "id": "WhCSooF8_Zcv"
   },
   "outputs": [
    {
     "data": {
      "text/plain": [
       "genre\n",
       "pop            5892\n",
       "dance          4435\n",
       "rock           3965\n",
       "electronic     3786\n",
       "hiphop         2096\n",
       "classical      1616\n",
       "world          1432\n",
       "alternative    1379\n",
       "ruspop         1372\n",
       "rusrap         1161\n",
       "Name: track, dtype: int64"
      ]
     },
     "metadata": {},
     "output_type": "display_data"
    }
   ],
   "source": [
    "# просмотр первых 10 строк moscow_genres\n",
    "display(moscow_genres.head(10))"
   ]
  },
  {
   "cell_type": "markdown",
   "metadata": {
    "id": "cnPG2vnN_Zcv"
   },
   "source": [
    "Теперь повторите то же и для Петербурга.\n",
    "\n",
    "Сгруппируйте таблицу `spb_general` по жанру. Посчитайте прослушивания треков каждого жанра. Результат отсортируйте в порядке убывания и сохраните в таблице `spb_genres`:\n"
   ]
  },
  {
   "cell_type": "code",
   "execution_count": 41,
   "metadata": {
    "id": "gluLIpE7_Zcv"
   },
   "outputs": [],
   "source": [
    "# одной строкой: группировка таблицы spb_general по столбцу 'genre', \n",
    "# подсчёт числа значений 'genre' в этой группировке методом count(), \n",
    "# сортировка получившегося Series в порядке убывания и сохранение в spb_genres\n",
    "spb_genres = spb_general.groupby('genre')['track'].count()\n",
    "spb_genres = spb_genres.sort_values(ascending=False)"
   ]
  },
  {
   "cell_type": "markdown",
   "metadata": {
    "id": "5Doha_ODgyQ8"
   },
   "source": [
    "Выведите на экран первые десять строк `spb_genres`:"
   ]
  },
  {
   "cell_type": "code",
   "execution_count": 42,
   "metadata": {
    "id": "uaGJHjVU_Zcv"
   },
   "outputs": [
    {
     "data": {
      "text/plain": [
       "genre\n",
       "pop            2431\n",
       "dance          1932\n",
       "rock           1879\n",
       "electronic     1736\n",
       "hiphop          960\n",
       "alternative     649\n",
       "classical       646\n",
       "rusrap          564\n",
       "ruspop          538\n",
       "world           515\n",
       "Name: track, dtype: int64"
      ]
     },
     "metadata": {},
     "output_type": "display_data"
    }
   ],
   "source": [
    "# просмотр первых 10 строк spb_genres\n",
    "display(spb_genres.head(10))"
   ]
  },
  {
   "cell_type": "markdown",
   "metadata": {
    "id": "RY51YJYu_Zcv"
   },
   "source": [
    "**Выводы**"
   ]
  },
  {
   "cell_type": "markdown",
   "metadata": {
    "id": "nVhnJEm__Zcv"
   },
   "source": [
    "Гипотеза частично подтвердилась:\n",
    "* Поп-музыка — самый популярный жанр в Москве, как и предполагала гипотеза. Более того, в топ-10 жанров встречается близкий жанр — русская популярная музыка.\n",
    "* Вопреки ожиданиям, рэп одинаково популярен в Москве и Петербурге. \n"
   ]
  },
  {
   "cell_type": "markdown",
   "metadata": {
    "id": "ykKQ0N65_Zcv"
   },
   "source": [
    "## Итоги исследования"
   ]
  },
  {
   "cell_type": "markdown",
   "metadata": {
    "id": "tjUwbHb3_Zcv"
   },
   "source": [
    "Вы проверили три гипотезы и установили:\n",
    "\n",
    "1. День недели по-разному влияет на активность пользователей в Москве и Петербурге. \n",
    "\n",
    "Первая гипотеза полностью подтвердилась.\n",
    "\n",
    "2. Музыкальные предпочтения не сильно меняются в течение недели — будь то Москва или Петербург. Небольшие различия заметны в начале недели, по понедельникам:\n",
    "* в Москве слушают музыку жанра “world”,\n",
    "* в Петербурге — джаз и классику.\n",
    "\n",
    "Таким образом, вторая гипотеза подтвердилась лишь отчасти. Этот результат мог оказаться иным, если бы не пропуски в данных.\n",
    "\n",
    "3. Во вкусах пользователей Москвы и Петербурга больше общего чем различий. Вопреки ожиданиям, предпочтения жанров в Петербурге напоминают московские.\n",
    "\n",
    "Третья гипотеза не подтвердилась. Если различия в предпочтениях и существуют, на основной массе пользователей они незаметны.\n",
    "\n",
    "**На практике исследования содержат проверки статистических гипотез.**\n",
    "Из данных одного сервиса не всегда можно сделать вывод о всех жителях города.\n",
    "Проверки статистических гипотез покажут, насколько они достоверны, исходя из имеющихся данных. \n",
    "С методами проверок гипотез вы ещё познакомитесь в следующих темах."
   ]
  }
 ],
 "metadata": {
  "ExecuteTimeLog": [
   {
    "duration": 83,
    "start_time": "2021-12-03T07:20:53.610Z"
   },
   {
    "duration": 332,
    "start_time": "2021-12-03T07:21:12.949Z"
   },
   {
    "duration": 256,
    "start_time": "2021-12-03T07:27:19.232Z"
   },
   {
    "duration": 240,
    "start_time": "2021-12-03T07:27:34.938Z"
   },
   {
    "duration": 167,
    "start_time": "2021-12-03T07:31:16.277Z"
   },
   {
    "duration": 175,
    "start_time": "2021-12-03T07:31:47.324Z"
   },
   {
    "duration": 10,
    "start_time": "2021-12-03T07:32:26.070Z"
   },
   {
    "duration": 26,
    "start_time": "2021-12-03T07:33:46.798Z"
   },
   {
    "duration": 441,
    "start_time": "2021-12-03T07:39:42.593Z"
   },
   {
    "duration": 5,
    "start_time": "2021-12-03T07:40:44.073Z"
   },
   {
    "duration": 4,
    "start_time": "2021-12-03T07:46:31.014Z"
   },
   {
    "duration": 3,
    "start_time": "2021-12-03T07:48:12.460Z"
   },
   {
    "duration": 4,
    "start_time": "2021-12-03T07:48:23.418Z"
   },
   {
    "duration": 2,
    "start_time": "2021-12-03T07:48:32.830Z"
   },
   {
    "duration": 21,
    "start_time": "2021-12-03T07:49:47.156Z"
   },
   {
    "duration": 4,
    "start_time": "2021-12-03T07:50:22.891Z"
   },
   {
    "duration": 17,
    "start_time": "2021-12-03T07:50:35.919Z"
   },
   {
    "duration": 4,
    "start_time": "2021-12-03T07:52:28.835Z"
   },
   {
    "duration": 16,
    "start_time": "2021-12-03T07:53:53.669Z"
   },
   {
    "duration": 15,
    "start_time": "2021-12-03T07:54:01.977Z"
   },
   {
    "duration": 5,
    "start_time": "2021-12-03T07:54:07.417Z"
   },
   {
    "duration": 44,
    "start_time": "2021-12-03T08:06:59.070Z"
   },
   {
    "duration": 355,
    "start_time": "2021-12-04T06:46:02.312Z"
   },
   {
    "duration": 299,
    "start_time": "2021-12-04T06:47:02.032Z"
   },
   {
    "duration": 702,
    "start_time": "2021-12-04T07:19:39.239Z"
   },
   {
    "duration": 6,
    "start_time": "2021-12-04T07:20:25.689Z"
   },
   {
    "duration": 295,
    "start_time": "2021-12-04T07:21:44.729Z"
   },
   {
    "duration": 305,
    "start_time": "2021-12-04T07:22:10.783Z"
   },
   {
    "duration": 4,
    "start_time": "2021-12-04T07:24:00.349Z"
   },
   {
    "duration": 300,
    "start_time": "2021-12-04T07:26:38.353Z"
   },
   {
    "duration": 3,
    "start_time": "2021-12-04T07:30:51.511Z"
   },
   {
    "duration": 207,
    "start_time": "2021-12-04T12:17:59.747Z"
   },
   {
    "duration": 2,
    "start_time": "2021-12-04T12:18:12.338Z"
   },
   {
    "duration": 179,
    "start_time": "2021-12-04T12:22:47.675Z"
   },
   {
    "duration": 708,
    "start_time": "2021-12-04T12:23:04.254Z"
   },
   {
    "duration": 73,
    "start_time": "2021-12-04T12:23:20.266Z"
   },
   {
    "duration": 55,
    "start_time": "2021-12-04T12:23:25.699Z"
   },
   {
    "duration": 52,
    "start_time": "2021-12-04T12:24:23.833Z"
   },
   {
    "duration": 2,
    "start_time": "2021-12-04T12:29:52.709Z"
   },
   {
    "duration": 7,
    "start_time": "2021-12-04T12:31:15.507Z"
   },
   {
    "duration": 212,
    "start_time": "2021-12-04T12:49:00.751Z"
   },
   {
    "duration": 171,
    "start_time": "2021-12-04T12:49:58.820Z"
   },
   {
    "duration": 5,
    "start_time": "2021-12-04T12:57:04.605Z"
   },
   {
    "duration": 171,
    "start_time": "2021-12-04T12:59:37.492Z"
   },
   {
    "duration": 42,
    "start_time": "2021-12-04T13:00:21.059Z"
   },
   {
    "duration": 50,
    "start_time": "2021-12-04T13:01:30.774Z"
   },
   {
    "duration": 44,
    "start_time": "2021-12-04T13:01:56.611Z"
   },
   {
    "duration": 7,
    "start_time": "2021-12-04T13:07:06.169Z"
   },
   {
    "duration": 182,
    "start_time": "2021-12-04T13:08:03.860Z"
   },
   {
    "duration": 294,
    "start_time": "2021-12-04T13:08:56.488Z"
   },
   {
    "duration": 349,
    "start_time": "2021-12-04T13:12:25.122Z"
   },
   {
    "duration": 347,
    "start_time": "2021-12-04T13:13:42.744Z"
   },
   {
    "duration": 3,
    "start_time": "2021-12-04T13:22:47.479Z"
   },
   {
    "duration": 282,
    "start_time": "2021-12-05T07:07:15.290Z"
   },
   {
    "duration": 707,
    "start_time": "2021-12-05T07:08:17.395Z"
   },
   {
    "duration": 433,
    "start_time": "2021-12-05T07:11:13.122Z"
   },
   {
    "duration": 394,
    "start_time": "2021-12-05T07:11:21.839Z"
   },
   {
    "duration": 386,
    "start_time": "2021-12-05T07:11:37.771Z"
   },
   {
    "duration": 177,
    "start_time": "2021-12-05T07:11:56.999Z"
   },
   {
    "duration": 152,
    "start_time": "2021-12-05T07:14:21.996Z"
   },
   {
    "duration": 160,
    "start_time": "2021-12-05T07:15:33.475Z"
   },
   {
    "duration": 246,
    "start_time": "2021-12-05T07:27:48.252Z"
   },
   {
    "duration": 25,
    "start_time": "2021-12-05T07:31:02.417Z"
   },
   {
    "duration": 258,
    "start_time": "2021-12-05T07:31:44.829Z"
   },
   {
    "duration": 23,
    "start_time": "2021-12-05T07:31:59.275Z"
   },
   {
    "duration": 368,
    "start_time": "2021-12-05T07:40:05.640Z"
   },
   {
    "duration": 246,
    "start_time": "2021-12-05T07:40:18.571Z"
   },
   {
    "duration": 248,
    "start_time": "2021-12-05T07:40:33.390Z"
   },
   {
    "duration": 248,
    "start_time": "2021-12-05T07:40:48.219Z"
   },
   {
    "duration": 8503,
    "start_time": "2021-12-05T07:41:57.985Z"
   },
   {
    "duration": 5853,
    "start_time": "2021-12-05T07:42:06.747Z"
   },
   {
    "duration": 6013,
    "start_time": "2021-12-05T07:42:31.474Z"
   },
   {
    "duration": 223,
    "start_time": "2021-12-05T07:42:55.452Z"
   },
   {
    "duration": 5880,
    "start_time": "2021-12-05T07:43:16.353Z"
   },
   {
    "duration": 87,
    "start_time": "2021-12-05T07:45:04.596Z"
   },
   {
    "duration": 273,
    "start_time": "2021-12-05T07:45:20.768Z"
   },
   {
    "duration": 242,
    "start_time": "2021-12-05T07:45:46.899Z"
   },
   {
    "duration": 260,
    "start_time": "2021-12-05T07:46:03.522Z"
   },
   {
    "duration": 11,
    "start_time": "2021-12-05T07:57:20.238Z"
   },
   {
    "duration": 244,
    "start_time": "2021-12-05T08:06:13.638Z"
   },
   {
    "duration": 247,
    "start_time": "2021-12-05T08:06:37.722Z"
   },
   {
    "duration": 6234,
    "start_time": "2021-12-05T08:06:49.928Z"
   },
   {
    "duration": 11,
    "start_time": "2021-12-05T08:07:54.481Z"
   },
   {
    "duration": 10,
    "start_time": "2021-12-05T08:08:35.040Z"
   },
   {
    "duration": 10,
    "start_time": "2021-12-05T08:09:34.877Z"
   },
   {
    "duration": 10,
    "start_time": "2021-12-05T08:10:40.669Z"
   },
   {
    "duration": 8,
    "start_time": "2021-12-05T08:10:47.093Z"
   },
   {
    "duration": 4,
    "start_time": "2021-12-05T08:11:10.725Z"
   },
   {
    "duration": 8,
    "start_time": "2021-12-05T08:11:19.428Z"
   },
   {
    "duration": 8,
    "start_time": "2021-12-05T08:11:28.614Z"
   },
   {
    "duration": 8,
    "start_time": "2021-12-05T08:15:40.394Z"
   },
   {
    "duration": 12,
    "start_time": "2021-12-05T08:15:43.179Z"
   },
   {
    "duration": 8,
    "start_time": "2021-12-05T08:15:45.867Z"
   },
   {
    "duration": 8,
    "start_time": "2021-12-05T08:16:49.363Z"
   },
   {
    "duration": 9,
    "start_time": "2021-12-05T08:23:11.922Z"
   },
   {
    "duration": 8,
    "start_time": "2021-12-05T08:27:38.344Z"
   },
   {
    "duration": 312,
    "start_time": "2021-12-06T03:34:56.331Z"
   },
   {
    "duration": 791,
    "start_time": "2021-12-06T03:36:23.778Z"
   },
   {
    "duration": 255,
    "start_time": "2021-12-06T03:37:00.140Z"
   },
   {
    "duration": 26,
    "start_time": "2021-12-06T03:37:13.812Z"
   },
   {
    "duration": 577,
    "start_time": "2021-12-06T03:39:03.065Z"
   },
   {
    "duration": 125,
    "start_time": "2021-12-06T03:39:03.644Z"
   },
   {
    "duration": 19,
    "start_time": "2021-12-06T03:39:03.771Z"
   },
   {
    "duration": 32,
    "start_time": "2021-12-06T03:39:03.792Z"
   },
   {
    "duration": 11,
    "start_time": "2021-12-06T03:39:03.826Z"
   },
   {
    "duration": 21,
    "start_time": "2021-12-06T03:39:03.838Z"
   },
   {
    "duration": 4,
    "start_time": "2021-12-06T03:39:03.861Z"
   },
   {
    "duration": 44,
    "start_time": "2021-12-06T03:39:03.867Z"
   },
   {
    "duration": 32,
    "start_time": "2021-12-06T03:39:03.913Z"
   },
   {
    "duration": 21,
    "start_time": "2021-12-06T03:39:03.947Z"
   },
   {
    "duration": 70,
    "start_time": "2021-12-06T03:39:03.969Z"
   },
   {
    "duration": 72,
    "start_time": "2021-12-06T03:39:04.040Z"
   },
   {
    "duration": 45,
    "start_time": "2021-12-06T03:39:04.114Z"
   },
   {
    "duration": 46,
    "start_time": "2021-12-06T03:39:04.160Z"
   },
   {
    "duration": 3,
    "start_time": "2021-12-06T03:39:04.207Z"
   },
   {
    "duration": 542,
    "start_time": "2021-12-06T03:39:04.211Z"
   },
   {
    "duration": -13,
    "start_time": "2021-12-06T03:39:04.768Z"
   },
   {
    "duration": -19,
    "start_time": "2021-12-06T03:39:04.775Z"
   },
   {
    "duration": -26,
    "start_time": "2021-12-06T03:39:04.784Z"
   },
   {
    "duration": -33,
    "start_time": "2021-12-06T03:39:04.791Z"
   },
   {
    "duration": -36,
    "start_time": "2021-12-06T03:39:04.795Z"
   },
   {
    "duration": -39,
    "start_time": "2021-12-06T03:39:04.799Z"
   },
   {
    "duration": -42,
    "start_time": "2021-12-06T03:39:04.803Z"
   },
   {
    "duration": -45,
    "start_time": "2021-12-06T03:39:04.807Z"
   },
   {
    "duration": -48,
    "start_time": "2021-12-06T03:39:04.811Z"
   },
   {
    "duration": -50,
    "start_time": "2021-12-06T03:39:04.814Z"
   },
   {
    "duration": -52,
    "start_time": "2021-12-06T03:39:04.817Z"
   },
   {
    "duration": -55,
    "start_time": "2021-12-06T03:39:04.820Z"
   },
   {
    "duration": -64,
    "start_time": "2021-12-06T03:39:04.830Z"
   },
   {
    "duration": -67,
    "start_time": "2021-12-06T03:39:04.834Z"
   },
   {
    "duration": -69,
    "start_time": "2021-12-06T03:39:04.837Z"
   },
   {
    "duration": -75,
    "start_time": "2021-12-06T03:39:04.843Z"
   },
   {
    "duration": -77,
    "start_time": "2021-12-06T03:39:04.846Z"
   },
   {
    "duration": -79,
    "start_time": "2021-12-06T03:39:04.849Z"
   },
   {
    "duration": -81,
    "start_time": "2021-12-06T03:39:04.852Z"
   },
   {
    "duration": -84,
    "start_time": "2021-12-06T03:39:04.856Z"
   },
   {
    "duration": -89,
    "start_time": "2021-12-06T03:39:04.862Z"
   },
   {
    "duration": -92,
    "start_time": "2021-12-06T03:39:04.866Z"
   },
   {
    "duration": 7,
    "start_time": "2021-12-06T03:41:19.734Z"
   },
   {
    "duration": 9,
    "start_time": "2021-12-06T03:41:51.417Z"
   },
   {
    "duration": 11,
    "start_time": "2021-12-06T03:41:56.391Z"
   },
   {
    "duration": 237,
    "start_time": "2021-12-06T03:42:10.311Z"
   },
   {
    "duration": 3,
    "start_time": "2021-12-06T03:42:29.897Z"
   },
   {
    "duration": 7088,
    "start_time": "2021-12-06T03:42:34.517Z"
   },
   {
    "duration": 6953,
    "start_time": "2021-12-06T03:43:04.686Z"
   },
   {
    "duration": 3,
    "start_time": "2021-12-06T03:43:20.454Z"
   },
   {
    "duration": 3,
    "start_time": "2021-12-06T03:43:36.525Z"
   },
   {
    "duration": 15,
    "start_time": "2021-12-06T03:43:39.365Z"
   },
   {
    "duration": 13,
    "start_time": "2021-12-06T03:43:43.931Z"
   },
   {
    "duration": 14,
    "start_time": "2021-12-06T03:43:46.829Z"
   },
   {
    "duration": 13,
    "start_time": "2021-12-06T03:43:49.706Z"
   },
   {
    "duration": 15,
    "start_time": "2021-12-06T03:43:52.752Z"
   },
   {
    "duration": 14,
    "start_time": "2021-12-06T03:43:56.480Z"
   },
   {
    "duration": 566,
    "start_time": "2021-12-06T06:02:56.754Z"
   },
   {
    "duration": 127,
    "start_time": "2021-12-06T06:02:57.322Z"
   },
   {
    "duration": 15,
    "start_time": "2021-12-06T06:02:57.451Z"
   },
   {
    "duration": 33,
    "start_time": "2021-12-06T06:02:57.468Z"
   },
   {
    "duration": 3,
    "start_time": "2021-12-06T06:02:57.503Z"
   },
   {
    "duration": 21,
    "start_time": "2021-12-06T06:02:57.507Z"
   },
   {
    "duration": 3,
    "start_time": "2021-12-06T06:02:57.529Z"
   },
   {
    "duration": 56,
    "start_time": "2021-12-06T06:02:57.535Z"
   },
   {
    "duration": 32,
    "start_time": "2021-12-06T06:02:57.593Z"
   },
   {
    "duration": 19,
    "start_time": "2021-12-06T06:02:57.627Z"
   },
   {
    "duration": 68,
    "start_time": "2021-12-06T06:02:57.647Z"
   },
   {
    "duration": 56,
    "start_time": "2021-12-06T06:02:57.716Z"
   },
   {
    "duration": 48,
    "start_time": "2021-12-06T06:02:57.774Z"
   },
   {
    "duration": 37,
    "start_time": "2021-12-06T06:02:57.824Z"
   },
   {
    "duration": 2,
    "start_time": "2021-12-06T06:02:57.862Z"
   },
   {
    "duration": 588,
    "start_time": "2021-12-06T06:02:57.866Z"
   },
   {
    "duration": 122,
    "start_time": "2021-12-06T06:02:58.335Z"
   },
   {
    "duration": 120,
    "start_time": "2021-12-06T06:02:58.338Z"
   },
   {
    "duration": 116,
    "start_time": "2021-12-06T06:02:58.342Z"
   },
   {
    "duration": 110,
    "start_time": "2021-12-06T06:02:58.349Z"
   },
   {
    "duration": 107,
    "start_time": "2021-12-06T06:02:58.353Z"
   },
   {
    "duration": 105,
    "start_time": "2021-12-06T06:02:58.356Z"
   },
   {
    "duration": 102,
    "start_time": "2021-12-06T06:02:58.360Z"
   },
   {
    "duration": 98,
    "start_time": "2021-12-06T06:02:58.365Z"
   },
   {
    "duration": 96,
    "start_time": "2021-12-06T06:02:58.368Z"
   },
   {
    "duration": 95,
    "start_time": "2021-12-06T06:02:58.370Z"
   },
   {
    "duration": 93,
    "start_time": "2021-12-06T06:02:58.373Z"
   },
   {
    "duration": 90,
    "start_time": "2021-12-06T06:02:58.377Z"
   },
   {
    "duration": 86,
    "start_time": "2021-12-06T06:02:58.382Z"
   },
   {
    "duration": 85,
    "start_time": "2021-12-06T06:02:58.384Z"
   },
   {
    "duration": 82,
    "start_time": "2021-12-06T06:02:58.388Z"
   },
   {
    "duration": 81,
    "start_time": "2021-12-06T06:02:58.390Z"
   },
   {
    "duration": 79,
    "start_time": "2021-12-06T06:02:58.393Z"
   },
   {
    "duration": 74,
    "start_time": "2021-12-06T06:02:58.399Z"
   },
   {
    "duration": 73,
    "start_time": "2021-12-06T06:02:58.401Z"
   },
   {
    "duration": 71,
    "start_time": "2021-12-06T06:02:58.404Z"
   },
   {
    "duration": 69,
    "start_time": "2021-12-06T06:02:58.407Z"
   },
   {
    "duration": 67,
    "start_time": "2021-12-06T06:02:58.410Z"
   },
   {
    "duration": 542,
    "start_time": "2021-12-06T06:15:14.122Z"
   },
   {
    "duration": 119,
    "start_time": "2021-12-06T06:15:14.666Z"
   },
   {
    "duration": 16,
    "start_time": "2021-12-06T06:15:14.787Z"
   },
   {
    "duration": 23,
    "start_time": "2021-12-06T06:15:14.804Z"
   },
   {
    "duration": 3,
    "start_time": "2021-12-06T06:15:14.828Z"
   },
   {
    "duration": 18,
    "start_time": "2021-12-06T06:15:14.833Z"
   },
   {
    "duration": 3,
    "start_time": "2021-12-06T06:15:14.853Z"
   },
   {
    "duration": 59,
    "start_time": "2021-12-06T06:15:14.859Z"
   },
   {
    "duration": 31,
    "start_time": "2021-12-06T06:15:14.919Z"
   },
   {
    "duration": 19,
    "start_time": "2021-12-06T06:15:14.951Z"
   },
   {
    "duration": 68,
    "start_time": "2021-12-06T06:15:14.972Z"
   },
   {
    "duration": 61,
    "start_time": "2021-12-06T06:15:15.042Z"
   },
   {
    "duration": 44,
    "start_time": "2021-12-06T06:15:15.104Z"
   },
   {
    "duration": 47,
    "start_time": "2021-12-06T06:15:15.149Z"
   },
   {
    "duration": 2,
    "start_time": "2021-12-06T06:15:15.198Z"
   },
   {
    "duration": 15,
    "start_time": "2021-12-06T06:15:15.202Z"
   },
   {
    "duration": 6,
    "start_time": "2021-12-06T06:15:15.218Z"
   },
   {
    "duration": 8,
    "start_time": "2021-12-06T06:15:15.226Z"
   },
   {
    "duration": 8,
    "start_time": "2021-12-06T06:15:15.236Z"
   },
   {
    "duration": 3,
    "start_time": "2021-12-06T06:15:15.245Z"
   },
   {
    "duration": 49,
    "start_time": "2021-12-06T06:15:15.250Z"
   },
   {
    "duration": 12,
    "start_time": "2021-12-06T06:15:15.301Z"
   },
   {
    "duration": 12,
    "start_time": "2021-12-06T06:15:15.316Z"
   },
   {
    "duration": 11,
    "start_time": "2021-12-06T06:15:15.329Z"
   },
   {
    "duration": 12,
    "start_time": "2021-12-06T06:15:15.341Z"
   },
   {
    "duration": 43,
    "start_time": "2021-12-06T06:15:15.354Z"
   },
   {
    "duration": 3,
    "start_time": "2021-12-06T06:15:15.399Z"
   },
   {
    "duration": 10,
    "start_time": "2021-12-06T06:15:15.403Z"
   },
   {
    "duration": 4,
    "start_time": "2021-12-06T06:15:15.414Z"
   },
   {
    "duration": 7,
    "start_time": "2021-12-06T06:15:15.420Z"
   },
   {
    "duration": 7,
    "start_time": "2021-12-06T06:15:15.428Z"
   },
   {
    "duration": 4,
    "start_time": "2021-12-06T06:15:15.436Z"
   },
   {
    "duration": 7,
    "start_time": "2021-12-06T06:15:15.441Z"
   },
   {
    "duration": 4,
    "start_time": "2021-12-06T06:15:15.449Z"
   },
   {
    "duration": 4,
    "start_time": "2021-12-06T06:15:15.455Z"
   },
   {
    "duration": 4,
    "start_time": "2021-12-06T06:15:15.460Z"
   },
   {
    "duration": 4,
    "start_time": "2021-12-06T06:15:15.466Z"
   },
   {
    "duration": 2,
    "start_time": "2021-12-06T06:15:15.488Z"
   },
   {
    "duration": 283,
    "start_time": "2021-12-06T06:20:23.760Z"
   },
   {
    "duration": 78,
    "start_time": "2021-12-06T07:44:46.775Z"
   },
   {
    "duration": 297,
    "start_time": "2021-12-06T07:45:36.475Z"
   },
   {
    "duration": 79,
    "start_time": "2021-12-06T08:02:29.122Z"
   },
   {
    "duration": 597,
    "start_time": "2021-12-06T08:14:28.449Z"
   },
   {
    "duration": 87,
    "start_time": "2021-12-06T08:14:36.460Z"
   },
   {
    "duration": 79,
    "start_time": "2021-12-06T08:14:41.812Z"
   },
   {
    "duration": 227,
    "start_time": "2021-12-06T08:14:51.132Z"
   },
   {
    "duration": 77,
    "start_time": "2021-12-06T08:18:22.123Z"
   },
   {
    "duration": 8,
    "start_time": "2021-12-06T08:18:29.788Z"
   },
   {
    "duration": 17,
    "start_time": "2021-12-06T08:41:35.816Z"
   },
   {
    "duration": 17,
    "start_time": "2021-12-06T08:42:22.243Z"
   },
   {
    "duration": 247,
    "start_time": "2021-12-06T08:57:46.829Z"
   },
   {
    "duration": 4,
    "start_time": "2021-12-06T08:58:07.830Z"
   },
   {
    "duration": 6612,
    "start_time": "2021-12-06T08:58:19.892Z"
   },
   {
    "duration": 4,
    "start_time": "2021-12-06T08:59:22.505Z"
   },
   {
    "duration": 481,
    "start_time": "2021-12-06T08:59:27.255Z"
   },
   {
    "duration": 4,
    "start_time": "2021-12-06T09:00:55.248Z"
   },
   {
    "duration": 26,
    "start_time": "2021-12-06T09:01:01.625Z"
   },
   {
    "duration": 3,
    "start_time": "2021-12-06T09:01:37.221Z"
   },
   {
    "duration": 27,
    "start_time": "2021-12-06T09:01:41.194Z"
   },
   {
    "duration": 4,
    "start_time": "2021-12-06T09:02:59.576Z"
   },
   {
    "duration": 4,
    "start_time": "2021-12-06T09:03:13.386Z"
   },
   {
    "duration": 17,
    "start_time": "2021-12-06T09:03:19.379Z"
   },
   {
    "duration": 12,
    "start_time": "2021-12-06T09:04:54.554Z"
   },
   {
    "duration": 15,
    "start_time": "2021-12-06T09:06:12.009Z"
   },
   {
    "duration": 12,
    "start_time": "2021-12-06T09:06:22.265Z"
   },
   {
    "duration": 4,
    "start_time": "2021-12-06T09:07:07.762Z"
   },
   {
    "duration": 503,
    "start_time": "2021-12-06T09:07:11.550Z"
   },
   {
    "duration": 4,
    "start_time": "2021-12-06T09:07:31.812Z"
   },
   {
    "duration": 22,
    "start_time": "2021-12-06T09:07:34.223Z"
   },
   {
    "duration": 16,
    "start_time": "2021-12-06T09:07:49.838Z"
   },
   {
    "duration": 21,
    "start_time": "2021-12-06T09:08:30.676Z"
   },
   {
    "duration": 16,
    "start_time": "2021-12-06T09:08:42.596Z"
   },
   {
    "duration": 4,
    "start_time": "2021-12-06T09:09:30.089Z"
   },
   {
    "duration": 17,
    "start_time": "2021-12-06T09:09:32.524Z"
   },
   {
    "duration": 12,
    "start_time": "2021-12-06T09:09:40.965Z"
   },
   {
    "duration": 17,
    "start_time": "2021-12-06T09:09:58.050Z"
   },
   {
    "duration": 12,
    "start_time": "2021-12-06T09:10:04.324Z"
   },
   {
    "duration": 17,
    "start_time": "2021-12-06T09:12:25.703Z"
   },
   {
    "duration": 12,
    "start_time": "2021-12-06T09:12:28.388Z"
   },
   {
    "duration": 4,
    "start_time": "2021-12-06T09:12:39.710Z"
   },
   {
    "duration": 17,
    "start_time": "2021-12-06T09:12:42.322Z"
   },
   {
    "duration": 12,
    "start_time": "2021-12-06T09:12:49.161Z"
   },
   {
    "duration": 3,
    "start_time": "2021-12-06T09:13:08.002Z"
   },
   {
    "duration": 17,
    "start_time": "2021-12-06T09:13:10.752Z"
   },
   {
    "duration": 12,
    "start_time": "2021-12-06T09:13:15.650Z"
   },
   {
    "duration": 13,
    "start_time": "2021-12-06T09:13:30.165Z"
   },
   {
    "duration": 4,
    "start_time": "2021-12-06T09:15:03.789Z"
   },
   {
    "duration": 592,
    "start_time": "2021-12-06T09:15:05.998Z"
   },
   {
    "duration": 4,
    "start_time": "2021-12-06T09:15:20.061Z"
   },
   {
    "duration": 21,
    "start_time": "2021-12-06T09:15:22.781Z"
   },
   {
    "duration": 16,
    "start_time": "2021-12-06T09:15:31.883Z"
   },
   {
    "duration": 4,
    "start_time": "2021-12-06T09:16:40.179Z"
   },
   {
    "duration": 17,
    "start_time": "2021-12-06T09:16:42.861Z"
   },
   {
    "duration": 11,
    "start_time": "2021-12-06T09:16:50.825Z"
   },
   {
    "duration": 15,
    "start_time": "2021-12-06T09:16:56.037Z"
   },
   {
    "duration": 12,
    "start_time": "2021-12-06T09:16:59.216Z"
   },
   {
    "duration": 5,
    "start_time": "2021-12-06T09:17:48.711Z"
   },
   {
    "duration": 17,
    "start_time": "2021-12-06T09:17:51.481Z"
   },
   {
    "duration": 11,
    "start_time": "2021-12-06T09:17:55.567Z"
   },
   {
    "duration": 16,
    "start_time": "2021-12-06T09:18:08.567Z"
   },
   {
    "duration": 12,
    "start_time": "2021-12-06T09:18:12.556Z"
   },
   {
    "duration": 4,
    "start_time": "2021-12-06T09:18:41.336Z"
   },
   {
    "duration": 18,
    "start_time": "2021-12-06T09:18:43.820Z"
   },
   {
    "duration": 13,
    "start_time": "2021-12-06T09:18:51.929Z"
   },
   {
    "duration": 15,
    "start_time": "2021-12-06T09:19:00.668Z"
   },
   {
    "duration": 13,
    "start_time": "2021-12-06T09:19:03.681Z"
   },
   {
    "duration": 4,
    "start_time": "2021-12-06T09:19:11.708Z"
   },
   {
    "duration": 17,
    "start_time": "2021-12-06T09:19:14.091Z"
   },
   {
    "duration": 13,
    "start_time": "2021-12-06T09:19:18.080Z"
   },
   {
    "duration": 15,
    "start_time": "2021-12-06T09:19:20.953Z"
   },
   {
    "duration": 12,
    "start_time": "2021-12-06T09:19:24.458Z"
   },
   {
    "duration": 235,
    "start_time": "2021-12-06T09:23:50.959Z"
   },
   {
    "duration": 9,
    "start_time": "2021-12-06T09:23:57.793Z"
   },
   {
    "duration": 5,
    "start_time": "2021-12-06T09:24:00.295Z"
   },
   {
    "duration": 8,
    "start_time": "2021-12-06T09:25:09.077Z"
   },
   {
    "duration": 5,
    "start_time": "2021-12-06T09:25:11.388Z"
   },
   {
    "duration": 8,
    "start_time": "2021-12-06T09:25:59.372Z"
   },
   {
    "duration": 4,
    "start_time": "2021-12-06T09:26:01.820Z"
   },
   {
    "duration": 737,
    "start_time": "2021-12-06T18:20:16.638Z"
   },
   {
    "duration": 141,
    "start_time": "2021-12-06T18:20:17.377Z"
   },
   {
    "duration": 17,
    "start_time": "2021-12-06T18:20:17.522Z"
   },
   {
    "duration": 37,
    "start_time": "2021-12-06T18:20:17.541Z"
   },
   {
    "duration": 5,
    "start_time": "2021-12-06T18:20:17.580Z"
   },
   {
    "duration": 28,
    "start_time": "2021-12-06T18:20:17.587Z"
   },
   {
    "duration": 13,
    "start_time": "2021-12-06T18:20:17.617Z"
   },
   {
    "duration": 57,
    "start_time": "2021-12-06T18:20:17.632Z"
   },
   {
    "duration": 23,
    "start_time": "2021-12-06T18:20:17.691Z"
   },
   {
    "duration": 29,
    "start_time": "2021-12-06T18:20:17.715Z"
   },
   {
    "duration": 61,
    "start_time": "2021-12-06T18:20:17.746Z"
   },
   {
    "duration": 39,
    "start_time": "2021-12-06T18:20:17.809Z"
   },
   {
    "duration": 25,
    "start_time": "2021-12-06T18:20:17.864Z"
   },
   {
    "duration": 87,
    "start_time": "2021-12-06T18:20:17.891Z"
   },
   {
    "duration": 72,
    "start_time": "2021-12-06T18:20:17.980Z"
   },
   {
    "duration": 62,
    "start_time": "2021-12-06T18:20:18.054Z"
   },
   {
    "duration": 55,
    "start_time": "2021-12-06T18:20:18.118Z"
   },
   {
    "duration": 20,
    "start_time": "2021-12-06T18:20:18.175Z"
   },
   {
    "duration": 51,
    "start_time": "2021-12-06T18:20:18.197Z"
   },
   {
    "duration": 25,
    "start_time": "2021-12-06T18:20:18.250Z"
   },
   {
    "duration": 31,
    "start_time": "2021-12-06T18:20:18.277Z"
   },
   {
    "duration": 26,
    "start_time": "2021-12-06T18:20:18.311Z"
   },
   {
    "duration": 4,
    "start_time": "2021-12-06T18:20:18.339Z"
   },
   {
    "duration": 41,
    "start_time": "2021-12-06T18:20:18.344Z"
   },
   {
    "duration": 14,
    "start_time": "2021-12-06T18:20:18.387Z"
   },
   {
    "duration": 21,
    "start_time": "2021-12-06T18:20:18.403Z"
   },
   {
    "duration": 13,
    "start_time": "2021-12-06T18:20:18.426Z"
   },
   {
    "duration": 25,
    "start_time": "2021-12-06T18:20:18.441Z"
   },
   {
    "duration": 13,
    "start_time": "2021-12-06T18:20:18.468Z"
   },
   {
    "duration": 8,
    "start_time": "2021-12-06T18:20:18.483Z"
   },
   {
    "duration": 21,
    "start_time": "2021-12-06T18:20:18.493Z"
   },
   {
    "duration": 21,
    "start_time": "2021-12-06T18:20:18.516Z"
   },
   {
    "duration": 4,
    "start_time": "2021-12-06T18:20:18.564Z"
   },
   {
    "duration": 31,
    "start_time": "2021-12-06T18:20:18.569Z"
   },
   {
    "duration": 15,
    "start_time": "2021-12-06T18:20:18.602Z"
   },
   {
    "duration": 21,
    "start_time": "2021-12-06T18:20:18.618Z"
   },
   {
    "duration": 26,
    "start_time": "2021-12-06T18:20:18.641Z"
   },
   {
    "duration": 11,
    "start_time": "2021-12-06T18:20:18.668Z"
   },
   {
    "duration": 5,
    "start_time": "2021-12-06T18:20:18.681Z"
   },
   {
    "duration": 41,
    "start_time": "2021-12-06T18:20:18.688Z"
   },
   {
    "duration": 5,
    "start_time": "2021-12-06T18:20:18.732Z"
   },
   {
    "duration": 28,
    "start_time": "2021-12-06T18:26:20.518Z"
   },
   {
    "duration": 26,
    "start_time": "2021-12-06T18:27:59.883Z"
   },
   {
    "duration": 22,
    "start_time": "2021-12-06T18:29:27.913Z"
   },
   {
    "duration": 72,
    "start_time": "2021-12-06T18:40:28.841Z"
   },
   {
    "duration": 79,
    "start_time": "2021-12-06T18:44:10.769Z"
   },
   {
    "duration": 62,
    "start_time": "2021-12-06T18:45:36.928Z"
   },
   {
    "duration": 586,
    "start_time": "2021-12-06T18:54:56.390Z"
   },
   {
    "duration": 143,
    "start_time": "2021-12-06T18:54:56.977Z"
   },
   {
    "duration": 16,
    "start_time": "2021-12-06T18:54:57.122Z"
   },
   {
    "duration": 34,
    "start_time": "2021-12-06T18:54:57.140Z"
   },
   {
    "duration": 4,
    "start_time": "2021-12-06T18:54:57.176Z"
   },
   {
    "duration": 23,
    "start_time": "2021-12-06T18:54:57.182Z"
   },
   {
    "duration": 4,
    "start_time": "2021-12-06T18:54:57.206Z"
   },
   {
    "duration": 65,
    "start_time": "2021-12-06T18:54:57.212Z"
   },
   {
    "duration": 23,
    "start_time": "2021-12-06T18:54:57.280Z"
   },
   {
    "duration": 23,
    "start_time": "2021-12-06T18:54:57.305Z"
   },
   {
    "duration": 66,
    "start_time": "2021-12-06T18:54:57.330Z"
   },
   {
    "duration": 44,
    "start_time": "2021-12-06T18:54:57.397Z"
   },
   {
    "duration": 38,
    "start_time": "2021-12-06T18:54:57.443Z"
   },
   {
    "duration": 60,
    "start_time": "2021-12-06T18:54:57.483Z"
   },
   {
    "duration": 84,
    "start_time": "2021-12-06T18:54:57.545Z"
   },
   {
    "duration": 59,
    "start_time": "2021-12-06T18:54:57.630Z"
   },
   {
    "duration": 40,
    "start_time": "2021-12-06T18:54:57.691Z"
   },
   {
    "duration": 3,
    "start_time": "2021-12-06T18:54:57.733Z"
   },
   {
    "duration": 34,
    "start_time": "2021-12-06T18:54:57.738Z"
   },
   {
    "duration": 7,
    "start_time": "2021-12-06T18:54:57.774Z"
   },
   {
    "duration": 10,
    "start_time": "2021-12-06T18:54:57.782Z"
   },
   {
    "duration": 9,
    "start_time": "2021-12-06T18:54:57.794Z"
   },
   {
    "duration": 4,
    "start_time": "2021-12-06T18:54:57.806Z"
   },
   {
    "duration": 24,
    "start_time": "2021-12-06T18:54:57.812Z"
   },
   {
    "duration": 15,
    "start_time": "2021-12-06T18:54:57.863Z"
   },
   {
    "duration": 13,
    "start_time": "2021-12-06T18:54:57.880Z"
   },
   {
    "duration": 13,
    "start_time": "2021-12-06T18:54:57.895Z"
   },
   {
    "duration": 13,
    "start_time": "2021-12-06T18:54:57.910Z"
   },
   {
    "duration": 47,
    "start_time": "2021-12-06T18:54:57.925Z"
   },
   {
    "duration": 8,
    "start_time": "2021-12-06T18:54:57.974Z"
   },
   {
    "duration": 85,
    "start_time": "2021-12-06T18:54:57.983Z"
   },
   {
    "duration": 18,
    "start_time": "2021-12-06T18:54:58.070Z"
   },
   {
    "duration": 17,
    "start_time": "2021-12-06T18:54:58.090Z"
   },
   {
    "duration": 4,
    "start_time": "2021-12-06T18:54:58.109Z"
   },
   {
    "duration": 50,
    "start_time": "2021-12-06T18:54:58.114Z"
   },
   {
    "duration": 12,
    "start_time": "2021-12-06T18:54:58.166Z"
   },
   {
    "duration": 16,
    "start_time": "2021-12-06T18:54:58.180Z"
   },
   {
    "duration": 11,
    "start_time": "2021-12-06T18:54:58.198Z"
   },
   {
    "duration": 8,
    "start_time": "2021-12-06T18:54:58.211Z"
   },
   {
    "duration": 5,
    "start_time": "2021-12-06T18:54:58.221Z"
   },
   {
    "duration": 40,
    "start_time": "2021-12-06T18:54:58.228Z"
   },
   {
    "duration": 5,
    "start_time": "2021-12-06T18:54:58.270Z"
   },
   {
    "duration": 641,
    "start_time": "2021-12-06T19:01:00.282Z"
   },
   {
    "duration": 181,
    "start_time": "2021-12-06T19:01:00.925Z"
   },
   {
    "duration": 27,
    "start_time": "2021-12-06T19:01:01.110Z"
   },
   {
    "duration": 57,
    "start_time": "2021-12-06T19:01:01.140Z"
   },
   {
    "duration": 11,
    "start_time": "2021-12-06T19:01:01.201Z"
   },
   {
    "duration": 36,
    "start_time": "2021-12-06T19:01:01.215Z"
   },
   {
    "duration": 21,
    "start_time": "2021-12-06T19:01:01.254Z"
   },
   {
    "duration": 54,
    "start_time": "2021-12-06T19:01:01.278Z"
   },
   {
    "duration": 40,
    "start_time": "2021-12-06T19:01:01.336Z"
   },
   {
    "duration": 59,
    "start_time": "2021-12-06T19:01:01.378Z"
   },
   {
    "duration": 69,
    "start_time": "2021-12-06T19:01:01.439Z"
   },
   {
    "duration": 60,
    "start_time": "2021-12-06T19:01:01.510Z"
   },
   {
    "duration": 28,
    "start_time": "2021-12-06T19:01:01.572Z"
   },
   {
    "duration": 118,
    "start_time": "2021-12-06T19:01:01.602Z"
   },
   {
    "duration": 79,
    "start_time": "2021-12-06T19:01:01.722Z"
   },
   {
    "duration": 67,
    "start_time": "2021-12-06T19:01:01.804Z"
   },
   {
    "duration": 41,
    "start_time": "2021-12-06T19:01:01.873Z"
   },
   {
    "duration": 29,
    "start_time": "2021-12-06T19:01:01.916Z"
   },
   {
    "duration": 56,
    "start_time": "2021-12-06T19:01:01.947Z"
   },
   {
    "duration": 14,
    "start_time": "2021-12-06T19:01:02.005Z"
   },
   {
    "duration": 20,
    "start_time": "2021-12-06T19:01:02.021Z"
   },
   {
    "duration": 24,
    "start_time": "2021-12-06T19:01:02.044Z"
   },
   {
    "duration": 6,
    "start_time": "2021-12-06T19:01:02.073Z"
   },
   {
    "duration": 33,
    "start_time": "2021-12-06T19:01:02.082Z"
   },
   {
    "duration": 34,
    "start_time": "2021-12-06T19:01:02.117Z"
   },
   {
    "duration": 63,
    "start_time": "2021-12-06T19:01:02.153Z"
   },
   {
    "duration": 27,
    "start_time": "2021-12-06T19:01:02.217Z"
   },
   {
    "duration": 22,
    "start_time": "2021-12-06T19:01:02.245Z"
   },
   {
    "duration": 38,
    "start_time": "2021-12-06T19:01:02.268Z"
   },
   {
    "duration": 16,
    "start_time": "2021-12-06T19:01:02.308Z"
   },
   {
    "duration": 83,
    "start_time": "2021-12-06T19:01:02.326Z"
   },
   {
    "duration": 35,
    "start_time": "2021-12-06T19:01:02.410Z"
   },
   {
    "duration": 22,
    "start_time": "2021-12-06T19:01:02.447Z"
   },
   {
    "duration": 21,
    "start_time": "2021-12-06T19:01:02.470Z"
   },
   {
    "duration": 31,
    "start_time": "2021-12-06T19:01:02.493Z"
   },
   {
    "duration": 14,
    "start_time": "2021-12-06T19:01:02.526Z"
   },
   {
    "duration": 48,
    "start_time": "2021-12-06T19:01:02.542Z"
   },
   {
    "duration": 18,
    "start_time": "2021-12-06T19:01:02.592Z"
   },
   {
    "duration": 32,
    "start_time": "2021-12-06T19:01:02.611Z"
   },
   {
    "duration": 26,
    "start_time": "2021-12-06T19:01:02.645Z"
   },
   {
    "duration": 29,
    "start_time": "2021-12-06T19:01:02.672Z"
   },
   {
    "duration": 11,
    "start_time": "2021-12-06T19:01:02.703Z"
   },
   {
    "duration": 418,
    "start_time": "2021-12-07T01:56:40.331Z"
   },
   {
    "duration": 821,
    "start_time": "2021-12-07T01:57:01.923Z"
   },
   {
    "duration": 179,
    "start_time": "2021-12-07T01:57:02.747Z"
   },
   {
    "duration": 34,
    "start_time": "2021-12-07T01:57:02.929Z"
   },
   {
    "duration": 32,
    "start_time": "2021-12-07T01:57:02.966Z"
   },
   {
    "duration": 6,
    "start_time": "2021-12-07T01:57:03.000Z"
   },
   {
    "duration": 59,
    "start_time": "2021-12-07T01:57:03.008Z"
   },
   {
    "duration": 5,
    "start_time": "2021-12-07T01:57:03.069Z"
   },
   {
    "duration": 59,
    "start_time": "2021-12-07T01:57:03.078Z"
   },
   {
    "duration": 31,
    "start_time": "2021-12-07T01:57:03.159Z"
   },
   {
    "duration": 31,
    "start_time": "2021-12-07T01:57:03.193Z"
   },
   {
    "duration": 88,
    "start_time": "2021-12-07T01:57:03.226Z"
   },
   {
    "duration": 58,
    "start_time": "2021-12-07T01:57:03.316Z"
   },
   {
    "duration": 28,
    "start_time": "2021-12-07T01:57:03.377Z"
   },
   {
    "duration": 110,
    "start_time": "2021-12-07T01:57:03.408Z"
   },
   {
    "duration": 100,
    "start_time": "2021-12-07T01:57:03.521Z"
   },
   {
    "duration": 82,
    "start_time": "2021-12-07T01:57:03.624Z"
   },
   {
    "duration": 65,
    "start_time": "2021-12-07T01:57:03.709Z"
   },
   {
    "duration": 4,
    "start_time": "2021-12-07T01:57:03.776Z"
   },
   {
    "duration": 29,
    "start_time": "2021-12-07T01:57:03.783Z"
   },
   {
    "duration": 9,
    "start_time": "2021-12-07T01:57:03.814Z"
   },
   {
    "duration": 41,
    "start_time": "2021-12-07T01:57:03.825Z"
   },
   {
    "duration": 13,
    "start_time": "2021-12-07T01:57:03.868Z"
   },
   {
    "duration": 5,
    "start_time": "2021-12-07T01:57:03.886Z"
   },
   {
    "duration": 24,
    "start_time": "2021-12-07T01:57:03.894Z"
   },
   {
    "duration": 55,
    "start_time": "2021-12-07T01:57:03.920Z"
   },
   {
    "duration": 17,
    "start_time": "2021-12-07T01:57:03.977Z"
   },
   {
    "duration": 16,
    "start_time": "2021-12-07T01:57:03.997Z"
   },
   {
    "duration": 54,
    "start_time": "2021-12-07T01:57:04.016Z"
   },
   {
    "duration": 18,
    "start_time": "2021-12-07T01:57:04.072Z"
   },
   {
    "duration": 12,
    "start_time": "2021-12-07T01:57:04.093Z"
   },
   {
    "duration": 123,
    "start_time": "2021-12-07T01:57:04.108Z"
   },
   {
    "duration": 37,
    "start_time": "2021-12-07T01:57:04.233Z"
   },
   {
    "duration": 25,
    "start_time": "2021-12-07T01:57:04.273Z"
   },
   {
    "duration": 5,
    "start_time": "2021-12-07T01:57:04.300Z"
   },
   {
    "duration": 56,
    "start_time": "2021-12-07T01:57:04.308Z"
   },
   {
    "duration": 16,
    "start_time": "2021-12-07T01:57:04.367Z"
   },
   {
    "duration": 22,
    "start_time": "2021-12-07T01:57:04.386Z"
   },
   {
    "duration": 15,
    "start_time": "2021-12-07T01:57:04.410Z"
   },
   {
    "duration": 43,
    "start_time": "2021-12-07T01:57:04.427Z"
   },
   {
    "duration": 5,
    "start_time": "2021-12-07T01:57:04.473Z"
   },
   {
    "duration": 16,
    "start_time": "2021-12-07T01:57:04.480Z"
   },
   {
    "duration": 8,
    "start_time": "2021-12-07T01:57:04.499Z"
   },
   {
    "duration": 11122,
    "start_time": "2021-12-07T02:01:20.064Z"
   },
   {
    "duration": 142,
    "start_time": "2021-12-07T02:05:41.091Z"
   },
   {
    "duration": 9455,
    "start_time": "2021-12-07T02:05:50.813Z"
   },
   {
    "duration": 50,
    "start_time": "2021-12-07T02:06:47.155Z"
   },
   {
    "duration": 58,
    "start_time": "2021-12-07T02:08:37.819Z"
   },
   {
    "duration": 58,
    "start_time": "2021-12-07T02:08:54.100Z"
   },
   {
    "duration": 58,
    "start_time": "2021-12-07T02:27:06.217Z"
   },
   {
    "duration": 75,
    "start_time": "2021-12-07T03:31:49.280Z"
   },
   {
    "duration": 546,
    "start_time": "2021-12-07T03:32:19.098Z"
   },
   {
    "duration": 130,
    "start_time": "2021-12-07T03:32:19.645Z"
   },
   {
    "duration": 16,
    "start_time": "2021-12-07T03:32:19.780Z"
   },
   {
    "duration": 23,
    "start_time": "2021-12-07T03:32:19.798Z"
   },
   {
    "duration": 5,
    "start_time": "2021-12-07T03:32:19.823Z"
   },
   {
    "duration": 20,
    "start_time": "2021-12-07T03:32:19.830Z"
   },
   {
    "duration": 35,
    "start_time": "2021-12-07T03:32:19.853Z"
   },
   {
    "duration": 39,
    "start_time": "2021-12-07T03:32:19.890Z"
   },
   {
    "duration": 21,
    "start_time": "2021-12-07T03:32:19.931Z"
   },
   {
    "duration": 47,
    "start_time": "2021-12-07T03:32:19.954Z"
   },
   {
    "duration": 41,
    "start_time": "2021-12-07T03:32:20.003Z"
   },
   {
    "duration": 48,
    "start_time": "2021-12-07T03:32:20.046Z"
   },
   {
    "duration": 20,
    "start_time": "2021-12-07T03:32:20.096Z"
   },
   {
    "duration": 51,
    "start_time": "2021-12-07T03:32:20.118Z"
   },
   {
    "duration": 74,
    "start_time": "2021-12-07T03:32:20.170Z"
   },
   {
    "duration": 53,
    "start_time": "2021-12-07T03:32:20.246Z"
   },
   {
    "duration": 37,
    "start_time": "2021-12-07T03:32:20.300Z"
   },
   {
    "duration": 3,
    "start_time": "2021-12-07T03:32:20.338Z"
   },
   {
    "duration": 19,
    "start_time": "2021-12-07T03:32:20.343Z"
   },
   {
    "duration": 48,
    "start_time": "2021-12-07T03:32:20.364Z"
   },
   {
    "duration": 8,
    "start_time": "2021-12-07T03:32:20.414Z"
   },
   {
    "duration": 9,
    "start_time": "2021-12-07T03:32:20.425Z"
   },
   {
    "duration": 3,
    "start_time": "2021-12-07T03:32:20.435Z"
   },
   {
    "duration": 17,
    "start_time": "2021-12-07T03:32:20.440Z"
   },
   {
    "duration": 38,
    "start_time": "2021-12-07T03:32:20.458Z"
   },
   {
    "duration": 16,
    "start_time": "2021-12-07T03:32:20.498Z"
   },
   {
    "duration": 12,
    "start_time": "2021-12-07T03:32:20.515Z"
   },
   {
    "duration": 12,
    "start_time": "2021-12-07T03:32:20.529Z"
   },
   {
    "duration": 11,
    "start_time": "2021-12-07T03:32:20.542Z"
   },
   {
    "duration": 35,
    "start_time": "2021-12-07T03:32:20.554Z"
   },
   {
    "duration": 58,
    "start_time": "2021-12-07T03:32:20.590Z"
   },
   {
    "duration": 17,
    "start_time": "2021-12-07T03:32:20.650Z"
   },
   {
    "duration": 33,
    "start_time": "2021-12-07T03:32:20.668Z"
   },
   {
    "duration": 4,
    "start_time": "2021-12-07T03:32:20.702Z"
   },
   {
    "duration": 22,
    "start_time": "2021-12-07T03:32:20.707Z"
   },
   {
    "duration": 11,
    "start_time": "2021-12-07T03:32:20.730Z"
   },
   {
    "duration": 18,
    "start_time": "2021-12-07T03:32:20.742Z"
   },
   {
    "duration": 12,
    "start_time": "2021-12-07T03:32:20.788Z"
   },
   {
    "duration": 8,
    "start_time": "2021-12-07T03:32:20.802Z"
   },
   {
    "duration": 4,
    "start_time": "2021-12-07T03:32:20.812Z"
   },
   {
    "duration": 8,
    "start_time": "2021-12-07T03:32:20.818Z"
   },
   {
    "duration": 7,
    "start_time": "2021-12-07T03:32:20.828Z"
   }
  ],
  "colab": {
   "collapsed_sections": [
    "E0vqbgi9ay0H",
    "VUC88oWjTJw2"
   ],
   "name": "yandex_music_project_2021.2.ipynb",
   "provenance": []
  },
  "kernelspec": {
   "display_name": "Python 3 (ipykernel)",
   "language": "python",
   "name": "python3"
  },
  "language_info": {
   "codemirror_mode": {
    "name": "ipython",
    "version": 3
   },
   "file_extension": ".py",
   "mimetype": "text/x-python",
   "name": "python",
   "nbconvert_exporter": "python",
   "pygments_lexer": "ipython3",
   "version": "3.9.5"
  },
  "toc": {
   "base_numbering": 1,
   "nav_menu": {},
   "number_sections": true,
   "sideBar": true,
   "skip_h1_title": true,
   "title_cell": "Table of Contents",
   "title_sidebar": "Contents",
   "toc_cell": false,
   "toc_position": {},
   "toc_section_display": true,
   "toc_window_display": true
  }
 },
 "nbformat": 4,
 "nbformat_minor": 1
}
